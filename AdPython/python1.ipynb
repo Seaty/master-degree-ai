{
 "cells": [
  {
   "cell_type": "markdown",
   "metadata": {
    "id": "mxohAZmJdhZ8"
   },
   "source": [
    "# Python Basics (1)\n",
    "\n",
    "\n",
    "## Data Types\n",
    "\n",
    "### Basic Data Types\n",
    "1. Number (Integer and Float)\n",
    "2. String\n",
    "3. Boolean\n",
    "\n",
    "###Collection Data Types\n",
    "- List\n",
    "- Dictionary\n",
    "- Set\n",
    "- Tuple\n",
    "\n",
    "Credit: [w3schools](https://www.w3schools.com/python/default.asp)\n",
    "\n",
    "[Markdown guide](https://colab.research.google.com/notebooks/markdown_guide.ipynb)\n",
    "\n"
   ]
  },
  {
   "cell_type": "markdown",
   "metadata": {
    "id": "guWAb_xteWjD"
   },
   "source": [
    "## Integer"
   ]
  },
  {
   "cell_type": "code",
   "execution_count": 2,
   "metadata": {
    "colab": {
     "base_uri": "https://localhost:8080/"
    },
    "executionInfo": {
     "elapsed": 369,
     "status": "ok",
     "timestamp": 1720335043582,
     "user": {
      "displayName": "Bundit Thanasopon",
      "userId": "04744482803489102160"
     },
     "user_tz": -420
    },
    "id": "3-2OI437ebId",
    "outputId": "a71870ae-dd41-420a-d849-939c0889f091"
   },
   "outputs": [
    {
     "name": "stdout",
     "output_type": "stream",
     "text": [
      "<class 'int'>\n",
      "<class 'float'>\n",
      "<class 'int'>\n"
     ]
    },
    {
     "data": {
      "text/plain": [
       "1.0"
      ]
     },
     "execution_count": 2,
     "metadata": {},
     "output_type": "execute_result"
    }
   ],
   "source": [
    "x1 = 1\n",
    "x2 = 1.0\n",
    "y = 2\n",
    "\n",
    "print(type(x1))\n",
    "print(type(x2))\n",
    "print(type(y))\n",
    "x2"
   ]
  },
  {
   "cell_type": "markdown",
   "metadata": {
    "id": "Z18DSxZPfT1l"
   },
   "source": [
    "Float can also be scientific numbers with an \"e\" to indicate the power of 10. (10 ยก กำลัง x)"
   ]
  },
  {
   "cell_type": "code",
   "execution_count": 3,
   "metadata": {
    "colab": {
     "base_uri": "https://localhost:8080/"
    },
    "executionInfo": {
     "elapsed": 389,
     "status": "ok",
     "timestamp": 1720335141621,
     "user": {
      "displayName": "Bundit Thanasopon",
      "userId": "04744482803489102160"
     },
     "user_tz": -420
    },
    "id": "-ORbx76QfVSw",
    "outputId": "64c6a41c-ccf3-4618-fb94-1c9e1b1e8924"
   },
   "outputs": [
    {
     "name": "stdout",
     "output_type": "stream",
     "text": [
      "<class 'float'>\n",
      "z -> 30000000000.0\n",
      "z2 -> 0.3\n"
     ]
    }
   ],
   "source": [
    "# e3 = 10 ยกกำลัง 3\n",
    "z = 3e10 \n",
    "# e-1 = 10 ยกกำลัง -1\n",
    "z2 = 3e-1\n",
    "\n",
    "print(type(z))\n",
    "print(\"z ->\", z)\n",
    "print(\"z2 ->\", z2)"
   ]
  },
  {
   "cell_type": "markdown",
   "metadata": {
    "id": "BZwb7Nv_g4d2"
   },
   "source": [
    "### Python Arithmetic Operators\n",
    "\n",
    "Operator | Name\n",
    "---|---\n",
    "+|Addition\n",
    "-|Subtraction\n",
    "*|Multiplication\n",
    "/|Division\n",
    "%|Modulus\n",
    "**|Exponentiation\n",
    "//|Floor division\n"
   ]
  },
  {
   "cell_type": "code",
   "execution_count": 4,
   "metadata": {
    "id": "E2q8Jg7khBWi"
   },
   "outputs": [],
   "source": [
    "x = 5\n",
    "y = 2"
   ]
  },
  {
   "cell_type": "code",
   "execution_count": 5,
   "metadata": {
    "colab": {
     "base_uri": "https://localhost:8080/"
    },
    "executionInfo": {
     "elapsed": 349,
     "status": "ok",
     "timestamp": 1720335291238,
     "user": {
      "displayName": "Bundit Thanasopon",
      "userId": "04744482803489102160"
     },
     "user_tz": -420
    },
    "id": "7vCHjIOKiAb8",
    "outputId": "185bad19-46e3-4fec-fce1-01f5c157a6c9"
   },
   "outputs": [
    {
     "data": {
      "text/plain": [
       "5.5"
      ]
     },
     "execution_count": 5,
     "metadata": {},
     "output_type": "execute_result"
    }
   ],
   "source": [
    "(x + y) - 1.5"
   ]
  },
  {
   "cell_type": "code",
   "execution_count": 6,
   "metadata": {
    "colab": {
     "base_uri": "https://localhost:8080/"
    },
    "executionInfo": {
     "elapsed": 4,
     "status": "ok",
     "timestamp": 1720335274205,
     "user": {
      "displayName": "Bundit Thanasopon",
      "userId": "04744482803489102160"
     },
     "user_tz": -420
    },
    "id": "TcRjH8u4iOcJ",
    "outputId": "f5b547b2-ad75-4697-8855-fcdda645ddd9"
   },
   "outputs": [
    {
     "data": {
      "text/plain": [
       "2.5"
      ]
     },
     "execution_count": 6,
     "metadata": {},
     "output_type": "execute_result"
    }
   ],
   "source": [
    "x / y"
   ]
  },
  {
   "cell_type": "code",
   "execution_count": 7,
   "metadata": {
    "colab": {
     "base_uri": "https://localhost:8080/"
    },
    "executionInfo": {
     "elapsed": 4,
     "status": "ok",
     "timestamp": 1720335275700,
     "user": {
      "displayName": "Bundit Thanasopon",
      "userId": "04744482803489102160"
     },
     "user_tz": -420
    },
    "id": "lISSUkPpiVkQ",
    "outputId": "fdde242d-4be8-4288-d913-fb9200c948a5"
   },
   "outputs": [
    {
     "data": {
      "text/plain": [
       "1"
      ]
     },
     "execution_count": 7,
     "metadata": {},
     "output_type": "execute_result"
    }
   ],
   "source": [
    "x % y"
   ]
  },
  {
   "cell_type": "code",
   "execution_count": 8,
   "metadata": {
    "colab": {
     "base_uri": "https://localhost:8080/"
    },
    "executionInfo": {
     "elapsed": 4,
     "status": "ok",
     "timestamp": 1720335276239,
     "user": {
      "displayName": "Bundit Thanasopon",
      "userId": "04744482803489102160"
     },
     "user_tz": -420
    },
    "id": "YGmh3jBBiWah",
    "outputId": "77e65e65-400b-4004-e0ba-adda42529872"
   },
   "outputs": [
    {
     "data": {
      "text/plain": [
       "25"
      ]
     },
     "execution_count": 8,
     "metadata": {},
     "output_type": "execute_result"
    }
   ],
   "source": [
    "x ** y"
   ]
  },
  {
   "cell_type": "code",
   "execution_count": 9,
   "metadata": {
    "colab": {
     "base_uri": "https://localhost:8080/"
    },
    "executionInfo": {
     "elapsed": 2,
     "status": "ok",
     "timestamp": 1720279393104,
     "user": {
      "displayName": "Bundit Thanasopon",
      "userId": "04744482803489102160"
     },
     "user_tz": -420
    },
    "id": "tyZaegNoicYt",
    "outputId": "fcfebefc-154b-4f75-921d-d8946371905b"
   },
   "outputs": [
    {
     "data": {
      "text/plain": [
       "2"
      ]
     },
     "execution_count": 9,
     "metadata": {},
     "output_type": "execute_result"
    }
   ],
   "source": [
    "x // y"
   ]
  },
  {
   "cell_type": "markdown",
   "metadata": {
    "id": "0brHZIATfxnl"
   },
   "source": [
    "## String\n",
    "Strings in python are surrounded by either single quotation marks, or double quotation marks.\n",
    "\n",
    "The String type in Python is called \"str\""
   ]
  },
  {
   "cell_type": "code",
   "execution_count": null,
   "metadata": {
    "colab": {
     "base_uri": "https://localhost:8080/"
    },
    "executionInfo": {
     "elapsed": 502,
     "status": "ok",
     "timestamp": 1720335461708,
     "user": {
      "displayName": "Bundit Thanasopon",
      "userId": "04744482803489102160"
     },
     "user_tz": -420
    },
    "id": "CfY7lknLgd_u",
    "outputId": "af679c35-418b-494f-f37b-e3924885d80e"
   },
   "outputs": [
    {
     "name": "stdout",
     "output_type": "stream",
     "text": [
      "I love \"hey\" Python\n",
      "<class 'str'>\n",
      "e\n",
      "w\n"
     ]
    }
   ],
   "source": [
    "s1 = 'I love \"hey\" Python'\n",
    "print(s1) # พิมพ์ s1\n",
    "\n",
    "print(type(s1))\n",
    "\n",
    "print(s1[5])\n",
    "\n",
    "s2 = 'Hello world!'\n",
    "\n",
    "print(s2[6])"
   ]
  },
  {
   "cell_type": "code",
   "execution_count": 11,
   "metadata": {
    "colab": {
     "base_uri": "https://localhost:8080/"
    },
    "executionInfo": {
     "elapsed": 376,
     "status": "ok",
     "timestamp": 1720279496431,
     "user": {
      "displayName": "Bundit Thanasopon",
      "userId": "04744482803489102160"
     },
     "user_tz": -420
    },
    "id": "KJfhAp3NpX8a",
    "outputId": "911cdd26-3554-4a24-a41e-1ca31a2bd593"
   },
   "outputs": [
    {
     "data": {
      "text/plain": [
       "str"
      ]
     },
     "execution_count": 11,
     "metadata": {},
     "output_type": "execute_result"
    }
   ],
   "source": [
    "s3 = 'X' # one letter is also a string\n",
    "\n",
    "type(s3)"
   ]
  },
  {
   "cell_type": "markdown",
   "metadata": {
    "id": "tpoXtvwLjrac"
   },
   "source": [
    "###Strings are Arrays\n",
    "**Important!!!** The first item in the sequence is number 0."
   ]
  },
  {
   "cell_type": "code",
   "execution_count": 12,
   "metadata": {
    "colab": {
     "base_uri": "https://localhost:8080/"
    },
    "executionInfo": {
     "elapsed": 1318,
     "status": "ok",
     "timestamp": 1642207523614,
     "user": {
      "displayName": "Bundit Thanasopon",
      "photoUrl": "https://lh3.googleusercontent.com/a-/AOh14GhFrZ7oxjzlmEjlrcpVO-8cd_Ba06JRTc0s9O4rVA=s64",
      "userId": "04744482803489102160"
     },
     "user_tz": -420
    },
    "id": "dVTfkGxAj6Ur",
    "outputId": "f6cfde57-9581-4d16-c7b9-621fc40c5db0"
   },
   "outputs": [
    {
     "name": "stdout",
     "output_type": "stream",
     "text": [
      "o\n",
      "\"\n"
     ]
    }
   ],
   "source": [
    "print(s1[3])\n",
    "print(s1[7])"
   ]
  },
  {
   "cell_type": "code",
   "execution_count": 54,
   "metadata": {
    "colab": {
     "base_uri": "https://localhost:8080/",
     "height": 36
    },
    "executionInfo": {
     "elapsed": 388,
     "status": "ok",
     "timestamp": 1720335647355,
     "user": {
      "displayName": "Bundit Thanasopon",
      "userId": "04744482803489102160"
     },
     "user_tz": -420
    },
    "id": "7ey2IiEzkMfu",
    "outputId": "ec20ec92-955c-4087-c012-9a34a31cff85"
   },
   "outputs": [
    {
     "data": {
      "text/plain": [
       "'Py'"
      ]
     },
     "execution_count": 54,
     "metadata": {},
     "output_type": "execute_result"
    }
   ],
   "source": [
    "# String slicing\n",
    "s1 = \"I love Python\"\n",
    "s1[7:]\n",
    "# var[start:end] # end is not included (index - 1)\n",
    "s1[7:9]"
   ]
  },
  {
   "cell_type": "code",
   "execution_count": 14,
   "metadata": {
    "colab": {
     "base_uri": "https://localhost:8080/",
     "height": 35
    },
    "executionInfo": {
     "elapsed": 5,
     "status": "ok",
     "timestamp": 1642207529120,
     "user": {
      "displayName": "Bundit Thanasopon",
      "photoUrl": "https://lh3.googleusercontent.com/a-/AOh14GhFrZ7oxjzlmEjlrcpVO-8cd_Ba06JRTc0s9O4rVA=s64",
      "userId": "04744482803489102160"
     },
     "user_tz": -420
    },
    "id": "rGSBQZPgkS-d",
    "outputId": "72d07f2d-a0bb-4f4d-b61a-a7e756ca1ada"
   },
   "outputs": [
    {
     "data": {
      "text/plain": [
       "'n'"
      ]
     },
     "execution_count": 14,
     "metadata": {},
     "output_type": "execute_result"
    }
   ],
   "source": [
    "# Negative index - start from the end\n",
    "s1 = \"I love Python\"\n",
    "s1[-1]"
   ]
  },
  {
   "cell_type": "code",
   "execution_count": 15,
   "metadata": {
    "colab": {
     "base_uri": "https://localhost:8080/",
     "height": 35
    },
    "executionInfo": {
     "elapsed": 5,
     "status": "ok",
     "timestamp": 1688886581686,
     "user": {
      "displayName": "Bundit Thanasopon",
      "userId": "04744482803489102160"
     },
     "user_tz": -420
    },
    "id": "sSDyOajVkVpO",
    "outputId": "1addc77f-3258-4172-918e-577252c10509"
   },
   "outputs": [
    {
     "data": {
      "text/plain": [
       "'love'"
      ]
     },
     "execution_count": 15,
     "metadata": {},
     "output_type": "execute_result"
    }
   ],
   "source": [
    "s1 = \"I love Python\"\n",
    "s1[-11:-7]"
   ]
  },
  {
   "cell_type": "code",
   "execution_count": 56,
   "metadata": {
    "colab": {
     "base_uri": "https://localhost:8080/",
     "height": 36
    },
    "executionInfo": {
     "elapsed": 375,
     "status": "ok",
     "timestamp": 1720336237537,
     "user": {
      "displayName": "Bundit Thanasopon",
      "userId": "04744482803489102160"
     },
     "user_tz": -420
    },
    "id": "iOevVg5xkjP3",
    "outputId": "d1d3c447-dfd3-4020-bcc0-16339714a3f8"
   },
   "outputs": [
    {
     "data": {
      "text/plain": [
       "'o world'"
      ]
     },
     "execution_count": 56,
     "metadata": {},
     "output_type": "execute_result"
    }
   ],
   "source": [
    "s2 = 'Hello world!'\n",
    "s2[4:-1]"
   ]
  },
  {
   "cell_type": "code",
   "execution_count": 17,
   "metadata": {
    "colab": {
     "base_uri": "https://localhost:8080/",
     "height": 35
    },
    "executionInfo": {
     "elapsed": 299,
     "status": "ok",
     "timestamp": 1629129575015,
     "user": {
      "displayName": "Bundit Thanasopon",
      "photoUrl": "https://lh3.googleusercontent.com/a-/AOh14GhFrZ7oxjzlmEjlrcpVO-8cd_Ba06JRTc0s9O4rVA=s64",
      "userId": "04744482803489102160"
     },
     "user_tz": -420
    },
    "id": "VpqRVbyEkjue",
    "outputId": "28b1713f-1a75-4b10-8f34-1a53d212c7e9"
   },
   "outputs": [
    {
     "data": {
      "text/plain": [
       "'Hell'"
      ]
     },
     "execution_count": 17,
     "metadata": {},
     "output_type": "execute_result"
    }
   ],
   "source": [
    "s2[:4]"
   ]
  },
  {
   "cell_type": "code",
   "execution_count": 18,
   "metadata": {
    "colab": {
     "base_uri": "https://localhost:8080/",
     "height": 35
    },
    "executionInfo": {
     "elapsed": 370,
     "status": "ok",
     "timestamp": 1659769052910,
     "user": {
      "displayName": "Bundit Thanasopon",
      "userId": "04744482803489102160"
     },
     "user_tz": -420
    },
    "id": "23DWOmpnkrkL",
    "outputId": "d21eeeb5-5cbd-4d8f-d551-8fa9c5b6fca3"
   },
   "outputs": [
    {
     "data": {
      "text/plain": [
       "'Hello world'"
      ]
     },
     "execution_count": 18,
     "metadata": {},
     "output_type": "execute_result"
    }
   ],
   "source": [
    "s2[0:-1]"
   ]
  },
  {
   "cell_type": "code",
   "execution_count": 19,
   "metadata": {
    "colab": {
     "base_uri": "https://localhost:8080/"
    },
    "executionInfo": {
     "elapsed": 399,
     "status": "ok",
     "timestamp": 1720336246870,
     "user": {
      "displayName": "Bundit Thanasopon",
      "userId": "04744482803489102160"
     },
     "user_tz": -420
    },
    "id": "uhERdH3plYEV",
    "outputId": "8899e89b-e85c-495d-cf5e-95d8f8e90aff"
   },
   "outputs": [
    {
     "data": {
      "text/plain": [
       "12"
      ]
     },
     "execution_count": 19,
     "metadata": {},
     "output_type": "execute_result"
    }
   ],
   "source": [
    "# String length\n",
    "len(s2)"
   ]
  },
  {
   "cell_type": "code",
   "execution_count": 59,
   "metadata": {
    "colab": {
     "base_uri": "https://localhost:8080/"
    },
    "executionInfo": {
     "elapsed": 390,
     "status": "ok",
     "timestamp": 1720336268575,
     "user": {
      "displayName": "Bundit Thanasopon",
      "userId": "04744482803489102160"
     },
     "user_tz": -420
    },
    "id": "PpBsPUEaljNv",
    "outputId": "cb7d1429-610b-4d1d-9793-015bd321710f"
   },
   "outputs": [
    {
     "data": {
      "text/plain": [
       "True"
      ]
     },
     "execution_count": 59,
     "metadata": {},
     "output_type": "execute_result"
    }
   ],
   "source": [
    "# Check String\n",
    "'world' in s2"
   ]
  },
  {
   "cell_type": "code",
   "execution_count": 66,
   "metadata": {
    "colab": {
     "base_uri": "https://localhost:8080/",
     "height": 53
    },
    "executionInfo": {
     "elapsed": 396,
     "status": "ok",
     "timestamp": 1720336418514,
     "user": {
      "displayName": "Bundit Thanasopon",
      "userId": "04744482803489102160"
     },
     "user_tz": -420
    },
    "id": "TpxjdaA5mBOJ",
    "outputId": "7a42ebdb-d9d5-48ba-d4e0-ff4586fb542c"
   },
   "outputs": [
    {
     "name": "stdout",
     "output_type": "stream",
     "text": [
      "3\n"
     ]
    },
    {
     "data": {
      "text/plain": [
       "'Python Hello world! is cool!'"
      ]
     },
     "execution_count": 66,
     "metadata": {},
     "output_type": "execute_result"
    }
   ],
   "source": [
    "# Concatenate Strings\n",
    "x = '1'\n",
    "y = 2\n",
    "z = int(x) + y\n",
    "print(z)\n",
    "'Python ' + s2 + ' is cool!'"
   ]
  },
  {
   "cell_type": "markdown",
   "metadata": {
    "id": "5PIOk3EYhHnH"
   },
   "source": [
    "### **Exercise**\n",
    "\n",
    "Slicing String\n"
   ]
  },
  {
   "cell_type": "code",
   "execution_count": 60,
   "metadata": {
    "colab": {
     "base_uri": "https://localhost:8080/",
     "height": 36
    },
    "executionInfo": {
     "elapsed": 422,
     "status": "ok",
     "timestamp": 1720336114096,
     "user": {
      "displayName": "Bundit Thanasopon",
      "userId": "04744482803489102160"
     },
     "user_tz": -420
    },
    "id": "xAmuiWcGhLyF",
    "outputId": "de4360a7-e3dc-4abe-8838-6942db44667f"
   },
   "outputs": [
    {
     "data": {
      "text/plain": [
       "'m'"
      ]
     },
     "execution_count": 60,
     "metadata": {},
     "output_type": "execute_result"
    }
   ],
   "source": [
    "# Given the string:\n",
    "s = 'Information Technology Faculty'\n",
    "\n",
    "# ใช้ indexing เพื่อ print out ให้ได้ผลดังต่อไปนี้:\n",
    "# 'm'\n",
    "s[5]\n"
   ]
  },
  {
   "cell_type": "code",
   "execution_count": 61,
   "metadata": {
    "colab": {
     "base_uri": "https://localhost:8080/",
     "height": 36
    },
    "executionInfo": {
     "elapsed": 378,
     "status": "ok",
     "timestamp": 1720336154357,
     "user": {
      "displayName": "Bundit Thanasopon",
      "userId": "04744482803489102160"
     },
     "user_tz": -420
    },
    "id": "U1m4LhG5hXIc",
    "outputId": "aed50ac1-6043-44e0-c622-762f0b011ce5"
   },
   "outputs": [
    {
     "data": {
      "text/plain": [
       "'Facul'"
      ]
     },
     "execution_count": 61,
     "metadata": {},
     "output_type": "execute_result"
    }
   ],
   "source": [
    "# 'Facul' ใช้ index เป็นลบ\n",
    "s[-7:-2]\n"
   ]
  },
  {
   "cell_type": "code",
   "execution_count": 64,
   "metadata": {
    "colab": {
     "base_uri": "https://localhost:8080/",
     "height": 36
    },
    "executionInfo": {
     "elapsed": 430,
     "status": "ok",
     "timestamp": 1720336186965,
     "user": {
      "displayName": "Bundit Thanasopon",
      "userId": "04744482803489102160"
     },
     "user_tz": -420
    },
    "id": "j-BaDqrXhebO",
    "outputId": "6e764cae-9f60-4f89-8d39-a520116d8868"
   },
   "outputs": [
    {
     "data": {
      "text/plain": [
       "'Techno'"
      ]
     },
     "execution_count": 64,
     "metadata": {},
     "output_type": "execute_result"
    }
   ],
   "source": [
    "# 'Techno' ใช้ index เป็นบวก\n",
    "s[12:18]"
   ]
  },
  {
   "cell_type": "markdown",
   "metadata": {
    "id": "8DRp7eJSk0uZ"
   },
   "source": [
    "### String Format\n",
    "We can combine strings and numbers by using the format() method."
   ]
  },
  {
   "cell_type": "code",
   "execution_count": 25,
   "metadata": {
    "colab": {
     "base_uri": "https://localhost:8080/",
     "height": 36
    },
    "executionInfo": {
     "elapsed": 354,
     "status": "ok",
     "timestamp": 1720336560732,
     "user": {
      "displayName": "Bundit Thanasopon",
      "userId": "04744482803489102160"
     },
     "user_tz": -420
    },
    "id": "w27B3-p7dkNA",
    "outputId": "aa3e8549-6820-4bd7-c662-8eaccf196255"
   },
   "outputs": [
    {
     "data": {
      "text/plain": [
       "'My name is 1234 Thanasopon'"
      ]
     },
     "execution_count": 25,
     "metadata": {},
     "output_type": "execute_result"
    }
   ],
   "source": [
    "name = 1234\n",
    "surname = 'Thanasopon'\n",
    "\n",
    "x = 'My name is ' + str(name) + ' ' + surname\n",
    "x"
   ]
  },
  {
   "cell_type": "code",
   "execution_count": 26,
   "metadata": {
    "colab": {
     "base_uri": "https://localhost:8080/",
     "height": 35
    },
    "executionInfo": {
     "elapsed": 465,
     "status": "ok",
     "timestamp": 1688887487632,
     "user": {
      "displayName": "Bundit Thanasopon",
      "userId": "04744482803489102160"
     },
     "user_tz": -420
    },
    "id": "I7fzY5xdmu6V",
    "outputId": "64b46a0a-e213-4c73-e371-57b50fa46639"
   },
   "outputs": [
    {
     "data": {
      "text/plain": [
       "'My name is Bundit Thanasopon (12345)'"
      ]
     },
     "execution_count": 26,
     "metadata": {},
     "output_type": "execute_result"
    }
   ],
   "source": [
    "name = 'Bundit'\n",
    "surname = 'Thanasopon'\n",
    "nickname = 12345\n",
    "'My name is {} {} ({})'.format(name, surname, nickname)"
   ]
  },
  {
   "cell_type": "code",
   "execution_count": 27,
   "metadata": {
    "colab": {
     "base_uri": "https://localhost:8080/",
     "height": 35
    },
    "executionInfo": {
     "elapsed": 423,
     "status": "ok",
     "timestamp": 1659769877526,
     "user": {
      "displayName": "Bundit Thanasopon",
      "userId": "04744482803489102160"
     },
     "user_tz": -420
    },
    "id": "C0RpIOu5nOmY",
    "outputId": "b54b2bed-6bbc-4aba-84b6-1d73718fef24"
   },
   "outputs": [
    {
     "data": {
      "text/plain": [
       "'My name is Bundit and my nickname is Jack, and I am 40'"
      ]
     },
     "execution_count": 27,
     "metadata": {},
     "output_type": "execute_result"
    }
   ],
   "source": [
    "name = 'Bundit'\n",
    "nickname = 'Jack'\n",
    "# s3 = 'My name is {} and my nickname is {}, and I am {}'\n",
    "# s3.format(name, 'Jack', 36)\n",
    "\n",
    "'My name is %s and my nickname is %s, and I am %s' % (name, 'Jack', 40)"
   ]
  },
  {
   "cell_type": "code",
   "execution_count": null,
   "metadata": {
    "colab": {
     "base_uri": "https://localhost:8080/",
     "height": 35
    },
    "executionInfo": {
     "elapsed": 5,
     "status": "ok",
     "timestamp": 1688887663573,
     "user": {
      "displayName": "Bundit Thanasopon",
      "userId": "04744482803489102160"
     },
     "user_tz": -420
    },
    "id": "WtOZy8EaM1QT",
    "outputId": "827dee1c-9077-4fcb-988d-f1b4baa09771"
   },
   "outputs": [
    {
     "data": {
      "text/plain": [
       "\"My name is Bundit and my 'nickname' is Jack, and I am 40.00\""
      ]
     },
     "execution_count": 77,
     "metadata": {},
     "output_type": "execute_result"
    }
   ],
   "source": [
    "name = 'Bundit'\n",
    "nickname = 'Jack'\n",
    "age = 40.0000\n",
    "# Using f-string format\n",
    "# f-string format is available in Python 3.6 and later\n",
    "# f\"{variable_name}\" is used to embed variables in strings\n",
    "# s3 = f\"My name is {name} and my 'nickname' is {nickname}, and I am {age:.2f}\"\n",
    "# The .2f formats the age to two decimal places\n",
    "# .2f means float with 2 decimal places\n",
    "s3 = f\"My name is {name} and my 'nickname' is {nickname}, and I am {age:.2f}\"\n",
    "\n",
    "s3"
   ]
  },
  {
   "cell_type": "markdown",
   "metadata": {
    "id": "JwjlXQyvtKta"
   },
   "source": [
    "### **Exercise**"
   ]
  },
  {
   "cell_type": "code",
   "execution_count": 78,
   "metadata": {
    "colab": {
     "base_uri": "https://localhost:8080/",
     "height": 36
    },
    "executionInfo": {
     "elapsed": 385,
     "status": "ok",
     "timestamp": 1720337067516,
     "user": {
      "displayName": "Bundit Thanasopon",
      "userId": "04744482803489102160"
     },
     "user_tz": -420
    },
    "id": "LAoflk6ntPWG",
    "outputId": "7d4a0de8-633e-4b7d-84bb-1b66dcbc868a"
   },
   "outputs": [
    {
     "data": {
      "text/plain": [
       "'Java is very hard. I hate Java'"
      ]
     },
     "execution_count": 78,
     "metadata": {},
     "output_type": "execute_result"
    }
   ],
   "source": [
    "language = 'Java'\n",
    "feeling = 'hate'\n",
    "difficulty = 'hard'\n",
    "\n",
    "# Print out 'Python is very easy. I love Python!'\n",
    "# using str.format() or f-string format\n",
    "f\"{language} is very {difficulty}. I {feeling} {language}\""
   ]
  },
  {
   "cell_type": "markdown",
   "metadata": {
    "id": "uaQA_QVOn2ZT"
   },
   "source": [
    "# Boolean\n",
    "\n",
    "Booleans represent one of two values: **True** or **False**.\n",
    "\n",
    "### Python Comparison Operators\n",
    "Operator|Name\n",
    "---|---\n",
    "==|Equal\n",
    "!=|Not equal\n",
    ">|Greater than\n",
    "<|Less than\n",
    ">=|Greater than or equal to\n",
    "<=|Less than or equal to\n",
    "\n",
    "### Python Logical Operators\n",
    "Operator|Name\n",
    "---|---\n",
    "and|Returns True if both statements are true\n",
    "or|Returns True if one of the statements is true\n",
    "not|Reverse the result, returns False if the result is true"
   ]
  },
  {
   "cell_type": "code",
   "execution_count": 30,
   "metadata": {
    "colab": {
     "base_uri": "https://localhost:8080/"
    },
    "executionInfo": {
     "elapsed": 414,
     "status": "ok",
     "timestamp": 1720338162227,
     "user": {
      "displayName": "Bundit Thanasopon",
      "userId": "04744482803489102160"
     },
     "user_tz": -420
    },
    "id": "i14O5yudpEp5",
    "outputId": "09ce326f-a411-4435-e8cf-f1aa5b72764d"
   },
   "outputs": [
    {
     "name": "stdout",
     "output_type": "stream",
     "text": [
      "x == y: False\n",
      "x > y: True\n",
      "x < y: False\n"
     ]
    }
   ],
   "source": [
    "x = 10\n",
    "y = 6\n",
    "\n",
    "print('x == y: {}'.format(x == y))\n",
    "print('x > y: {}'.format(x > y))\n",
    "print('x < y: {}'.format(x < y))"
   ]
  },
  {
   "cell_type": "code",
   "execution_count": 31,
   "metadata": {
    "colab": {
     "base_uri": "https://localhost:8080/"
    },
    "executionInfo": {
     "elapsed": 422,
     "status": "ok",
     "timestamp": 1720338166547,
     "user": {
      "displayName": "Bundit Thanasopon",
      "userId": "04744482803489102160"
     },
     "user_tz": -420
    },
    "id": "OScy3oUTqU_q",
    "outputId": "c573278c-d8b4-4f08-f20d-e243504b6c4e"
   },
   "outputs": [
    {
     "name": "stdout",
     "output_type": "stream",
     "text": [
      "False\n",
      "True\n",
      "True\n"
     ]
    }
   ],
   "source": [
    "z = 'Hello'\n",
    "print((x > y) and (z != 'Hello')) # True and False => False\n",
    "print(not ((x < y) and (z == 'Hello'))) # not (False and True) => True\n",
    "print((x > y) or (z == 'Hey')) # True or False => True"
   ]
  },
  {
   "cell_type": "markdown",
   "metadata": {
    "id": "jHvj7zfXqwm2"
   },
   "source": [
    "### Truthy and Falsy Values in Python\n",
    "In Python, individual values can evaluate to either True or False.\n",
    "* Values that evaluate to **False** are considered *Falsy*.\n",
    "* Values that evaluate to **True** are considered *Truthy*.\n"
   ]
  },
  {
   "cell_type": "markdown",
   "metadata": {
    "id": "2T7_TnJFrpyw"
   },
   "source": [
    "### Falsy Values\n",
    "\n",
    "\n",
    "**Sequences and Collections:**\n",
    "* Empty lists: []\n",
    "* Empty tuples: ()\n",
    "* Empty dictionaries: {}\n",
    "* Empty sets: set()\n",
    "* Empty strings: \"\"\n",
    "* Empty ranges: range(0)\n",
    "\n",
    "**Numbers**\n",
    "* Zero of any numeric type.\n",
    "* Integer: 0\n",
    "* Float: 0.0\n",
    "\n",
    "**Constants**\n",
    "* None\n",
    "* False\n",
    "\n",
    "\n",
    "### Truthy Values\n",
    "* Non-empty sequences or collections (lists, tuples, strings, dictionaries, sets).\n",
    "* Numeric values that are not zero.\n",
    "* True"
   ]
  },
  {
   "cell_type": "code",
   "execution_count": 32,
   "metadata": {
    "colab": {
     "base_uri": "https://localhost:8080/"
    },
    "executionInfo": {
     "elapsed": 1223,
     "status": "ok",
     "timestamp": 1720338442820,
     "user": {
      "displayName": "Bundit Thanasopon",
      "userId": "04744482803489102160"
     },
     "user_tz": -420
    },
    "id": "XXh5i_hhsOkp",
    "outputId": "0ea9e095-1640-4f92-8b44-5c234719766e"
   },
   "outputs": [
    {
     "name": "stdout",
     "output_type": "stream",
     "text": [
      "True\n"
     ]
    }
   ],
   "source": [
    "a = [None]\n",
    "if a:\n",
    "  print('True')\n",
    "else:\n",
    "  print('False')"
   ]
  },
  {
   "cell_type": "code",
   "execution_count": 33,
   "metadata": {
    "colab": {
     "base_uri": "https://localhost:8080/"
    },
    "executionInfo": {
     "elapsed": 372,
     "status": "ok",
     "timestamp": 1720338452088,
     "user": {
      "displayName": "Bundit Thanasopon",
      "userId": "04744482803489102160"
     },
     "user_tz": -420
    },
    "id": "eG-86C9g-PUP",
    "outputId": "34ac173b-c1c6-40e5-e856-f3e167f2b792"
   },
   "outputs": [
    {
     "name": "stdout",
     "output_type": "stream",
     "text": [
      "False\n"
     ]
    }
   ],
   "source": [
    "a = None\n",
    "if a:\n",
    "  print('True')\n",
    "else:\n",
    "  print('False')"
   ]
  },
  {
   "cell_type": "code",
   "execution_count": 34,
   "metadata": {
    "colab": {
     "base_uri": "https://localhost:8080/"
    },
    "executionInfo": {
     "elapsed": 383,
     "status": "ok",
     "timestamp": 1720338460116,
     "user": {
      "displayName": "Bundit Thanasopon",
      "userId": "04744482803489102160"
     },
     "user_tz": -420
    },
    "id": "r8C92I04snnR",
    "outputId": "8b4f99eb-6cee-456f-8740-5925f017faad"
   },
   "outputs": [
    {
     "name": "stdout",
     "output_type": "stream",
     "text": [
      "True\n"
     ]
    }
   ],
   "source": [
    "a = 1\n",
    "if a:\n",
    "  print('True')\n",
    "else:\n",
    "  print('False')"
   ]
  },
  {
   "cell_type": "code",
   "execution_count": 35,
   "metadata": {
    "colab": {
     "base_uri": "https://localhost:8080/"
    },
    "executionInfo": {
     "elapsed": 393,
     "status": "ok",
     "timestamp": 1720338486386,
     "user": {
      "displayName": "Bundit Thanasopon",
      "userId": "04744482803489102160"
     },
     "user_tz": -420
    },
    "id": "UE3YYgOhsxIx",
    "outputId": "2dc0f177-3068-4625-a5b0-bdd66f982da5"
   },
   "outputs": [
    {
     "data": {
      "text/plain": [
       "False"
      ]
     },
     "execution_count": 35,
     "metadata": {},
     "output_type": "execute_result"
    }
   ],
   "source": [
    "a = \"\"\n",
    "bool(a)"
   ]
  },
  {
   "cell_type": "code",
   "execution_count": 36,
   "metadata": {
    "colab": {
     "base_uri": "https://localhost:8080/"
    },
    "executionInfo": {
     "elapsed": 369,
     "status": "ok",
     "timestamp": 1720338540462,
     "user": {
      "displayName": "Bundit Thanasopon",
      "userId": "04744482803489102160"
     },
     "user_tz": -420
    },
    "id": "v7qZtN4OszsD",
    "outputId": "88ceee50-d777-4270-cca7-176900f89110"
   },
   "outputs": [
    {
     "name": "stdout",
     "output_type": "stream",
     "text": [
      "True\n"
     ]
    }
   ],
   "source": [
    "a = \"Not empty\"\n",
    "if a:\n",
    "  print('True')\n",
    "else:\n",
    "  print('False')"
   ]
  },
  {
   "cell_type": "markdown",
   "metadata": {
    "id": "l8Hc0_kmxea-"
   },
   "source": [
    "## If...Else\n",
    "### Python Conditions and If statements\n",
    "Python supports the usual logical conditions from mathematics:\n",
    "* Equals: a == b\n",
    "* Not Equals: a != b\n",
    "* Less than: a < b\n",
    "* Less than or equal to: a <= b\n",
    "* Greater than: a > b\n",
    "* Greater than or equal to: a >= b"
   ]
  },
  {
   "cell_type": "code",
   "execution_count": 37,
   "metadata": {
    "colab": {
     "base_uri": "https://localhost:8080/"
    },
    "executionInfo": {
     "elapsed": 382,
     "status": "ok",
     "timestamp": 1720338870538,
     "user": {
      "displayName": "Bundit Thanasopon",
      "userId": "04744482803489102160"
     },
     "user_tz": -420
    },
    "id": "7ic3JFAjxsvJ",
    "outputId": "2b89ad51-4d3d-4244-feda-80b6db78dd42"
   },
   "outputs": [
    {
     "name": "stdout",
     "output_type": "stream",
     "text": [
      "true\n"
     ]
    }
   ],
   "source": [
    "# If statement\n",
    "\n",
    "a = 34\n",
    "b = 200\n",
    "if b > a and (b - a) > 100 or b == 210: # => True and True or False\n",
    "  print('true')\n",
    "  if a == 33:\n",
    "    print(\"b is much greater than a\")\n",
    "else:\n",
    "  print('Else')\n",
    "  print('Done')"
   ]
  },
  {
   "cell_type": "code",
   "execution_count": 38,
   "metadata": {
    "colab": {
     "base_uri": "https://localhost:8080/"
    },
    "executionInfo": {
     "elapsed": 420,
     "status": "ok",
     "timestamp": 1720339060639,
     "user": {
      "displayName": "Bundit Thanasopon",
      "userId": "04744482803489102160"
     },
     "user_tz": -420
    },
    "id": "N2wUoJts-V2-",
    "outputId": "7d499702-255d-4b58-93de-1287ea70dced"
   },
   "outputs": [
    {
     "name": "stdout",
     "output_type": "stream",
     "text": [
      "a and b are equal\n"
     ]
    }
   ],
   "source": [
    "# Elif statement\n",
    "a = 33\n",
    "b = 34\n",
    "if a < b:\n",
    "  print(\"a and b are equal\")\n",
    "elif b >= a:\n",
    "  print(\"b is greater than a\")\n",
    "else:\n",
    "  print('A is more than B')"
   ]
  },
  {
   "cell_type": "code",
   "execution_count": 39,
   "metadata": {
    "colab": {
     "base_uri": "https://localhost:8080/"
    },
    "executionInfo": {
     "elapsed": 379,
     "status": "ok",
     "timestamp": 1720285013151,
     "user": {
      "displayName": "Bundit Thanasopon",
      "userId": "04744482803489102160"
     },
     "user_tz": -420
    },
    "id": "O9S5jJ6H-ao9",
    "outputId": "9bbd0f6e-681e-4042-fe0e-74f7de09c1cb"
   },
   "outputs": [
    {
     "name": "stdout",
     "output_type": "stream",
     "text": [
      "a is greater than b\n"
     ]
    }
   ],
   "source": [
    "# Else statement\n",
    "a = 200\n",
    "b = 33\n",
    "if b > a:\n",
    "  print(\"b is greater than a\")\n",
    "elif a == b:\n",
    "  print(\"a and b are equal\")\n",
    "else:\n",
    "  print(\"a is greater than b\")"
   ]
  },
  {
   "cell_type": "markdown",
   "metadata": {
    "id": "FMBAqYfd-nY4"
   },
   "source": [
    "In Python, scope is specify by TAB"
   ]
  },
  {
   "cell_type": "code",
   "execution_count": 40,
   "metadata": {
    "colab": {
     "base_uri": "https://localhost:8080/"
    },
    "executionInfo": {
     "elapsed": 402,
     "status": "ok",
     "timestamp": 1720285130291,
     "user": {
      "displayName": "Bundit Thanasopon",
      "userId": "04744482803489102160"
     },
     "user_tz": -420
    },
    "id": "J70UDEFKh_UB",
    "outputId": "4efecdb6-6b81-4e27-839b-2328de3b5882"
   },
   "outputs": [
    {
     "name": "stdout",
     "output_type": "stream",
     "text": [
      "true\n",
      "b is much greater than a\n",
      "Done\n"
     ]
    }
   ],
   "source": [
    "# If statement\n",
    "a = 33\n",
    "b = 200\n",
    "if b > a and (b - a) > 100:\n",
    "  print('true')\n",
    "  print(\"b is much greater than a\")\n",
    "else:\n",
    "  print('Else')\n",
    "\n",
    "print('Done')"
   ]
  },
  {
   "cell_type": "markdown",
   "metadata": {
    "id": "LG5GiFmOOxlR"
   },
   "source": [
    "**Exercise**\n",
    "\n",
    "เขียน if-else เพื่อแสดงเกรดของคะแนนสอบ โดยมีเงื่อนไขดังนี้\n",
    "- คะแนน >= 80 ได้เกรด A\n",
    "- คะแนน >= 70 ได้เกรด B\n",
    "- คะแนน >= 60 ได้เกรด C\n",
    "- คะแนน >= 50 ได้เกรด D\n",
    "- คะแนน > 30 ได้เกรด P\n",
    "- คะแนน <= 30 ได้เกรด F\n",
    "\n",
    "คะแนนของนักเรียน 3 คนเป็นดังนี้\n",
    "x = 51, y = 30 และ z = 85"
   ]
  },
  {
   "cell_type": "code",
   "execution_count": null,
   "metadata": {
    "colab": {
     "base_uri": "https://localhost:8080/"
    },
    "executionInfo": {
     "elapsed": 364,
     "status": "ok",
     "timestamp": 1720339986849,
     "user": {
      "displayName": "Bundit Thanasopon",
      "userId": "04744482803489102160"
     },
     "user_tz": -420
    },
    "id": "rUrA6ZC_Pcz3",
    "outputId": "ac13fa16-df2f-4aeb-e7f6-2d61d66f32b9"
   },
   "outputs": [
    {
     "name": "stdout",
     "output_type": "stream",
     "text": [
      "P\n"
     ]
    }
   ],
   "source": [
    "x = 51 # D\n",
    "y = 30 # F\n",
    "z = 85 # A\n",
    "score = x\n",
    "\n",
    "# Your code here\n",
    "if score >= 80:\n",
    "    print('A')\n",
    "elif score >= 70:\n",
    "    print('B')\n",
    "elif score >= 60:\n",
    "    print('C')\n",
    "elif score >= 50:\n",
    "    print('D')\n",
    "elif score >= 30:\n",
    "    print('P')\n",
    "else:\n",
    "    print('F')  \n"
   ]
  },
  {
   "cell_type": "markdown",
   "metadata": {
    "id": "sirp8wQwtTPs"
   },
   "source": [
    "##Lists\n",
    "\n",
    "Lists are used to store multiple items in a single variable.\n",
    "\n",
    "Lists are one of 4 built-in data types in Python used to store collections of data, the other 3 are Tuple, Set, and Dictionary, all with different qualities and usage."
   ]
  },
  {
   "cell_type": "code",
   "execution_count": 42,
   "metadata": {
    "colab": {
     "base_uri": "https://localhost:8080/"
    },
    "executionInfo": {
     "elapsed": 397,
     "status": "ok",
     "timestamp": 1720340245015,
     "user": {
      "displayName": "Bundit Thanasopon",
      "userId": "04744482803489102160"
     },
     "user_tz": -420
    },
    "id": "Ughbgea8t-QQ",
    "outputId": "9f613723-d582-4772-a519-8b1feee77ad9"
   },
   "outputs": [
    {
     "name": "stdout",
     "output_type": "stream",
     "text": [
      "Length of mylist - 7\n",
      "apple\n",
      "['banana', 'orange']\n",
      "None\n"
     ]
    }
   ],
   "source": [
    "mylist = [\"apple\", \"banana\", \"orange\", True, 10, [1, 2, 3], None]\n",
    "print('Length of mylist -', len(mylist))\n",
    "\n",
    "print(mylist[0])\n",
    "print(mylist[1:3])\n",
    "print(mylist[-1])"
   ]
  },
  {
   "cell_type": "markdown",
   "metadata": {
    "id": "N-Nv-eqT1zkL"
   },
   "source": [
    "###Modifying Lists\n",
    "\n"
   ]
  },
  {
   "cell_type": "code",
   "execution_count": 43,
   "metadata": {
    "colab": {
     "base_uri": "https://localhost:8080/"
    },
    "executionInfo": {
     "elapsed": 739,
     "status": "ok",
     "timestamp": 1720316137095,
     "user": {
      "displayName": "Bundit Thanasopon",
      "userId": "04744482803489102160"
     },
     "user_tz": -420
    },
    "id": "KrQzeHxd2JZN",
    "outputId": "983f37d0-101b-4c6c-99d0-6821d731b29d"
   },
   "outputs": [
    {
     "name": "stdout",
     "output_type": "stream",
     "text": [
      "['apple', 'banana', 'orange']\n",
      "Change orange to watermelon -> ['apple', 'banana', 'watermalon']\n",
      "\n",
      "Get items: 1, 2 -> ['banana', 'watermalon']\n",
      "\n",
      "Change items: 1, 2 to strawberry, pineapple -> ['apple', 'strawberry', 'pineapple']\n"
     ]
    }
   ],
   "source": [
    "mylist = [\"apple\", \"banana\", \"orange\"]\n",
    "print(mylist)\n",
    "\n",
    "# Changing list items\n",
    "mylist[2] = \"watermalon\"\n",
    "print(\"Change orange to watermelon ->\", mylist)\n",
    "print()\n",
    "newlist = mylist[1:3]\n",
    "print(\"Get items: 1, 2 ->\", newlist)\n",
    "\n",
    "print()\n",
    "mylist[1:3] = [\"strawberry\", \"pineapple\"]\n",
    "print(\"Change items: 1, 2 to strawberry, pineapple ->\", mylist)"
   ]
  },
  {
   "cell_type": "markdown",
   "metadata": {
    "id": "L7MchdujUL37"
   },
   "source": [
    "**Exercise**\n",
    "\n",
    "Accessing nested list"
   ]
  },
  {
   "cell_type": "code",
   "execution_count": 91,
   "metadata": {
    "id": "7mTztV1uUTYv"
   },
   "outputs": [],
   "source": [
    "ls = [3,7,[1,4,'hello']]\n",
    "\n",
    "# จงแก้ค่า hello เป็น goodbye\n",
    "# Your code here\n",
    "ls[2][2] = 'goodbye'\n"
   ]
  },
  {
   "cell_type": "code",
   "execution_count": 86,
   "metadata": {
    "id": "iFJR5IVb6809"
   },
   "outputs": [
    {
     "data": {
      "text/plain": [
       "'hello'"
      ]
     },
     "execution_count": 86,
     "metadata": {},
     "output_type": "execute_result"
    }
   ],
   "source": [
    "lst = [1,\n",
    "       2,\n",
    "       [3,4],\n",
    "       [5,[100,200,['hello']],23,11],\n",
    "       1,\n",
    "       7]\n",
    "\n",
    "# print ค่า hello ออกมาแสดง\n",
    "# Your code here\n",
    "lst[3][1][2][0]"
   ]
  },
  {
   "cell_type": "markdown",
   "metadata": {
    "id": "2BOyufTj1auc"
   },
   "source": [
    "#### Add a new item to list"
   ]
  },
  {
   "cell_type": "code",
   "execution_count": 46,
   "metadata": {
    "id": "wDZVGQnc6x6Y"
   },
   "outputs": [
    {
     "name": "stdout",
     "output_type": "stream",
     "text": [
      "['apple', 'kiwi', 'banana', 'orange']\n",
      "['apple', 'kiwi', 'banana', 'orange', 'durian']\n"
     ]
    }
   ],
   "source": [
    "mylist = [\"apple\", \"banana\", \"orange\"]\n",
    "# Adding new items\n",
    "mylist.insert(1, \"kiwi\")\n",
    "print(mylist)\n",
    "\n",
    "\n",
    "mylist.append(\"durian\")\n",
    "print(mylist)"
   ]
  },
  {
   "cell_type": "markdown",
   "metadata": {
    "id": "WLlcjA2S1iK0"
   },
   "source": [
    "#### Concatenate two lists"
   ]
  },
  {
   "cell_type": "code",
   "execution_count": 47,
   "metadata": {
    "colab": {
     "base_uri": "https://localhost:8080/"
    },
    "executionInfo": {
     "elapsed": 463,
     "status": "ok",
     "timestamp": 1688892474359,
     "user": {
      "displayName": "Bundit Thanasopon",
      "userId": "04744482803489102160"
     },
     "user_tz": -420
    },
    "id": "3rZKXFiA2h0O",
    "outputId": "95678f85-fc58-4598-890d-25877ff7f588"
   },
   "outputs": [
    {
     "name": "stdout",
     "output_type": "stream",
     "text": [
      "[1, 2, 3, 4, 5, 6]\n"
     ]
    }
   ],
   "source": [
    "# Concatenate lists\n",
    "mylist1 = [1, 2, 3]\n",
    "mylist2 = [4, 5, 6]\n",
    "print(mylist1 + mylist2)"
   ]
  },
  {
   "cell_type": "markdown",
   "metadata": {
    "id": "PjlJNW-t1oBf"
   },
   "source": [
    "#### Remove items from list"
   ]
  },
  {
   "cell_type": "code",
   "execution_count": null,
   "metadata": {
    "colab": {
     "base_uri": "https://localhost:8080/"
    },
    "executionInfo": {
     "elapsed": 295,
     "status": "ok",
     "timestamp": 1642231613645,
     "user": {
      "displayName": "Bundit Thanasopon",
      "photoUrl": "https://lh3.googleusercontent.com/a-/AOh14GhFrZ7oxjzlmEjlrcpVO-8cd_Ba06JRTc0s9O4rVA=s64",
      "userId": "04744482803489102160"
     },
     "user_tz": -420
    },
    "id": "SurP8kD863Gn",
    "outputId": "ff6b6292-6ffe-41e6-ea74-f0788d296c02"
   },
   "outputs": [
    {
     "name": "stdout",
     "output_type": "stream",
     "text": [
      "['apple', 'strawberry', 'pineapple', 'Durian']\n",
      "['apple', 'pineapple', 'Durian']\n",
      "['apple', 'pineapple']\n",
      "Durian\n"
     ]
    }
   ],
   "source": [
    "mylist = ['apple', 'kiwi', 'strawberry', 'pineapple', 'Durian']\n",
    "# Removing items\n",
    "mylist.remove('kiwi')\n",
    "print(mylist)\n",
    "\n",
    "# The pop() method removes the specified index.\n",
    "mylist.pop(1)\n",
    "print(mylist)\n",
    "\n",
    "# If you do not specify the index, the pop() method removes the last item.\n",
    "popValue = mylist.pop()\n",
    "print(mylist)\n",
    "# Pop can return pop value in var\n",
    "print(popValue)"
   ]
  },
  {
   "cell_type": "markdown",
   "metadata": {
    "id": "vdoVlAF-8Knt"
   },
   "source": [
    "### Looping Lists"
   ]
  },
  {
   "cell_type": "code",
   "execution_count": 98,
   "metadata": {
    "colab": {
     "base_uri": "https://localhost:8080/"
    },
    "executionInfo": {
     "elapsed": 524,
     "status": "ok",
     "timestamp": 1688892650671,
     "user": {
      "displayName": "Bundit Thanasopon",
      "userId": "04744482803489102160"
     },
     "user_tz": -420
    },
    "id": "cThbsH5e8R1P",
    "outputId": "3a9f5baf-cb9a-490c-ee6b-de3f3ab97111"
   },
   "outputs": [
    {
     "name": "stdout",
     "output_type": "stream",
     "text": [
      "1. apple\n",
      "2. kiwi\n",
      "3. strawberry\n",
      "4. pineapple\n",
      "5. Durian\n"
     ]
    }
   ],
   "source": [
    "mylist = ['apple', 'kiwi', 'strawberry', 'pineapple', 'Durian']\n",
    "\n",
    "index = 1\n",
    "for f in mylist:\n",
    "  print('{}. {}'.format(index, f))\n",
    "  index += 1\n"
   ]
  },
  {
   "cell_type": "code",
   "execution_count": 50,
   "metadata": {
    "colab": {
     "base_uri": "https://localhost:8080/"
    },
    "executionInfo": {
     "elapsed": 407,
     "status": "ok",
     "timestamp": 1720341606953,
     "user": {
      "displayName": "Bundit Thanasopon",
      "userId": "04744482803489102160"
     },
     "user_tz": -420
    },
    "id": "w5gYQZ6eYrDg",
    "outputId": "68dbe44b-ac63-4e1c-f40c-75b18c65e877"
   },
   "outputs": [
    {
     "name": "stdout",
     "output_type": "stream",
     "text": [
      "apple\n",
      "kiwi\n",
      "strawberry\n",
      "pineapple\n",
      "DONE!!!\n"
     ]
    }
   ],
   "source": [
    "mylist = ['apple', 'kiwi', 'strawberry', 'pineapple', 'Durian']\n",
    "\n",
    "fruit = ''\n",
    "i = 0\n",
    "while fruit != 'pineapple':\n",
    "  print(mylist[i])\n",
    "  fruit = mylist[i]\n",
    "  i = i + 1\n",
    "\n",
    "print('DONE!!!')"
   ]
  },
  {
   "cell_type": "code",
   "execution_count": 51,
   "metadata": {
    "colab": {
     "base_uri": "https://localhost:8080/",
     "height": 193
    },
    "executionInfo": {
     "elapsed": 22203,
     "status": "error",
     "timestamp": 1720341735113,
     "user": {
      "displayName": "Bundit Thanasopon",
      "userId": "04744482803489102160"
     },
     "user_tz": -420
    },
    "id": "CkE-INm8WkBD",
    "outputId": "247056f5-bede-4ac4-cb5c-e4bb4faadbd8"
   },
   "outputs": [
    {
     "ename": "KeyboardInterrupt",
     "evalue": "",
     "output_type": "error",
     "traceback": [
      "\u001b[31m---------------------------------------------------------------------------\u001b[39m",
      "\u001b[31mKeyboardInterrupt\u001b[39m                         Traceback (most recent call last)",
      "\u001b[36mCell\u001b[39m\u001b[36m \u001b[39m\u001b[32mIn[51]\u001b[39m\u001b[32m, line 4\u001b[39m\n\u001b[32m      1\u001b[39m \u001b[38;5;66;03m# Lookout for infinity loops\u001b[39;00m\n\u001b[32m      2\u001b[39m x = \u001b[32m9\u001b[39m\n\u001b[32m----> \u001b[39m\u001b[32m4\u001b[39m \u001b[38;5;28;01mwhile\u001b[39;00m x < \u001b[32m10\u001b[39m:\n\u001b[32m      5\u001b[39m   x = x - \u001b[32m1\u001b[39m\n",
      "\u001b[31mKeyboardInterrupt\u001b[39m: "
     ]
    }
   ],
   "source": [
    "# Lookout for infinity loops\n",
    "x = 9\n",
    "\n",
    "while x < 10:\n",
    "  x = x - 1"
   ]
  },
  {
   "cell_type": "markdown",
   "metadata": {
    "id": "VtRibWoIY2RI"
   },
   "source": [
    "### List Exercises"
   ]
  },
  {
   "cell_type": "markdown",
   "metadata": {
    "id": "eoBzx61XgOZh"
   },
   "source": [
    "**Exercise #1**\n",
    "\n",
    "สร้าง list ใหม่ที่มีสมาชิกเป็นขนาดของ String แต่ละตัวใน list \"mylist\""
   ]
  },
  {
   "cell_type": "code",
   "execution_count": 130,
   "metadata": {
    "colab": {
     "base_uri": "https://localhost:8080/"
    },
    "executionInfo": {
     "elapsed": 396,
     "status": "ok",
     "timestamp": 1720341868523,
     "user": {
      "displayName": "Bundit Thanasopon",
      "userId": "04744482803489102160"
     },
     "user_tz": -420
    },
    "id": "wgcprKAKgRuq",
    "outputId": "0c41619e-0a55-40ef-d70d-7994561ed177"
   },
   "outputs": [
    {
     "data": {
      "text/plain": [
       "[5, 4, 10, 9, 6]"
      ]
     },
     "execution_count": 130,
     "metadata": {},
     "output_type": "execute_result"
    }
   ],
   "source": [
    "mylist = ['apple', 'kiwi', 'strawberry', 'pineapple', 'Durian']\n",
    "\n",
    "# Put your code here\n",
    "lenList = []\n",
    "\n",
    "for i in mylist:\n",
    "    lenList.append(len(i))\n",
    "    \n",
    "\n",
    "lenList"
   ]
  },
  {
   "cell_type": "markdown",
   "metadata": {
    "id": "YIqk_giMqwC3"
   },
   "source": [
    "**Exercise #2**\n",
    "\n",
    "\n",
    "```\n",
    "myList = [76, 92.3, 'hello', True, 4, 76]\n",
    "\n",
    "\n",
    "```\n",
    "\n",
    "\n",
    "จาก myList ที่กำหนด ให้ดำเนินการดังต่อไปนี้\n",
    "\n",
    "1. เพิ่ม `'apple'` และ `76`\n",
    "2. เพิ่ม `'cat'` ในตำแหน่ง index ที่ 3\n",
    "3. เพิ่ม `99` ในตำแหน่งเริ่มต้นของ List\n",
    "4. นับจำนวนของ `76` โดยใช้ `for`\n",
    "5. ลบค่า `76` ตัวแรกออกจาก List โดยใช้คำสั่ง `pop` ด้วย index\n",
    "\n",
    "**Expected Output**\n",
    "\n",
    "```\n",
    "result 3 ข้อแรก\n",
    "[99, 76, 92.3, 'cat', 'hello', True, 4, 76, 'apple', 76]\n",
    "\n",
    "จำนวนของ 76\n",
    "3\n",
    "\n",
    "result หลังจากลบ 76 ตัวแรกออก\n",
    "[99, 92.3, 'cat', 'hello', True, 4, 76, 'apple', 76]\n",
    "```"
   ]
  },
  {
   "cell_type": "code",
   "execution_count": 122,
   "metadata": {
    "colab": {
     "base_uri": "https://localhost:8080/"
    },
    "executionInfo": {
     "elapsed": 396,
     "status": "ok",
     "timestamp": 1720342816955,
     "user": {
      "displayName": "Bundit Thanasopon",
      "userId": "04744482803489102160"
     },
     "user_tz": -420
    },
    "id": "Ltvo2T5-rHbi",
    "outputId": "715dddc3-9d0c-45de-e0a5-ec138b798b3f"
   },
   "outputs": [
    {
     "name": "stdout",
     "output_type": "stream",
     "text": [
      "[99, 76, 92.3, 'cat', 'hello', True, 4, 76, 'apple', 76]\n"
     ]
    }
   ],
   "source": [
    "myList = [76, 92.3, 'hello', True, 4, 76]\n",
    "# YOUR CODE HERE\n",
    "# ข้อ 1-3\n",
    "myList.append('apple')\n",
    "myList.append(76)\n",
    "myList.insert(2,'cat')\n",
    "myList.insert(0,99)\n",
    "print(myList)\n",
    "\n"
   ]
  },
  {
   "cell_type": "code",
   "execution_count": 123,
   "metadata": {
    "colab": {
     "base_uri": "https://localhost:8080/"
    },
    "executionInfo": {
     "elapsed": 361,
     "status": "ok",
     "timestamp": 1720342821597,
     "user": {
      "displayName": "Bundit Thanasopon",
      "userId": "04744482803489102160"
     },
     "user_tz": -420
    },
    "id": "rutA0Lyt7wwc",
    "outputId": "75a68935-81d3-4e37-920f-09759db92515"
   },
   "outputs": [
    {
     "data": {
      "text/plain": [
       "3"
      ]
     },
     "execution_count": 123,
     "metadata": {},
     "output_type": "execute_result"
    }
   ],
   "source": [
    "# YOUR CODE HERE\n",
    "# ข้อ 4\n",
    "count76 = 0\n",
    "for i in myList:\n",
    "    if i == 76:\n",
    "        count76 += 1\n",
    "count76\n"
   ]
  },
  {
   "cell_type": "code",
   "execution_count": 125,
   "metadata": {
    "colab": {
     "base_uri": "https://localhost:8080/"
    },
    "executionInfo": {
     "elapsed": 373,
     "status": "ok",
     "timestamp": 1720342824327,
     "user": {
      "displayName": "Bundit Thanasopon",
      "userId": "04744482803489102160"
     },
     "user_tz": -420
    },
    "id": "X91vZ5M77w0I",
    "outputId": "8d747e25-4c92-4680-e5b8-f2faa3f54573"
   },
   "outputs": [
    {
     "data": {
      "text/plain": [
       "[99, 92.3, 'cat', 'hello', True, 4, 76, 'apple', 76]"
      ]
     },
     "execution_count": 125,
     "metadata": {},
     "output_type": "execute_result"
    }
   ],
   "source": [
    "# YOUR CODE HERE\n",
    "# ข้อ 5\n",
    "myList.pop(1)\n",
    "myList"
   ]
  },
  {
   "cell_type": "markdown",
   "metadata": {
    "id": "zvxfc8GQvDUr"
   },
   "source": [
    "**Exercise #3**\n",
    "\n",
    "\n",
    "```\n",
    "numbers = [34.6, -203.4, 44.9, 68.3, -12.2, 44.6, 12.7]\n",
    "```\n",
    "\n",
    "\n",
    "จาก List `'numbers'` จงสร้าง List `'newList'` ซึ่งมีเฉพาะตัวเลขจำนวนเต็มบวก\n",
    "\n",
    "*Hint: ใช้ `for` loop และ `if`*\n",
    "\n",
    "**Expected Output**\n",
    "\n",
    "\n",
    "```\n",
    "[34, 44, 68, 44, 12]\n",
    "```\n",
    "\n"
   ]
  },
  {
   "cell_type": "code",
   "execution_count": 129,
   "metadata": {
    "colab": {
     "base_uri": "https://localhost:8080/"
    },
    "executionInfo": {
     "elapsed": 807,
     "status": "ok",
     "timestamp": 1720938215897,
     "user": {
      "displayName": "Bundit Thanasopon",
      "userId": "04744482803489102160"
     },
     "user_tz": -420
    },
    "id": "rkdeQEyhynqL",
    "outputId": "67945873-1df1-4f59-b740-42d75f1ca9a1"
   },
   "outputs": [
    {
     "name": "stdout",
     "output_type": "stream",
     "text": [
      "[34, 44, 68, 44, 12]\n"
     ]
    }
   ],
   "source": [
    "# YOUR CODE HERE\n",
    "\n",
    "numbers = [34.6, -203.4, 44.9, 68.3, -12.2, 44.6, 12.7]\n",
    "\n",
    "newList = []\n",
    "for item in numbers:\n",
    "    if item > 0:\n",
    "        newList.append(int(item))\n",
    "\n",
    "print(newList)\n"
   ]
  },
  {
   "cell_type": "markdown",
   "metadata": {
    "id": "8Hlit6MdbO8p"
   },
   "source": [
    "## Looping through range()\n"
   ]
  },
  {
   "cell_type": "code",
   "execution_count": 131,
   "metadata": {
    "colab": {
     "base_uri": "https://localhost:8080/"
    },
    "executionInfo": {
     "elapsed": 438,
     "status": "ok",
     "timestamp": 1659775376799,
     "user": {
      "displayName": "Bundit Thanasopon",
      "userId": "04744482803489102160"
     },
     "user_tz": -420
    },
    "id": "lwNeHSFFbTjH",
    "outputId": "8dad9654-e583-440f-eb67-05fd3bb3c2b9"
   },
   "outputs": [
    {
     "name": "stdout",
     "output_type": "stream",
     "text": [
      "range(0, 10)\n"
     ]
    }
   ],
   "source": [
    "print(range(10))"
   ]
  },
  {
   "cell_type": "code",
   "execution_count": 132,
   "metadata": {
    "colab": {
     "base_uri": "https://localhost:8080/"
    },
    "executionInfo": {
     "elapsed": 351,
     "status": "ok",
     "timestamp": 1720344304307,
     "user": {
      "displayName": "Bundit Thanasopon",
      "userId": "04744482803489102160"
     },
     "user_tz": -420
    },
    "id": "99e26PsubXQx",
    "outputId": "cfa5cde5-b85f-48e5-81a7-74dc692a419a"
   },
   "outputs": [
    {
     "name": "stdout",
     "output_type": "stream",
     "text": [
      "0\n",
      "1\n",
      "2\n",
      "3\n",
      "4\n",
      "5\n",
      "6\n",
      "7\n",
      "8\n",
      "9\n",
      "10\n",
      "11\n",
      "12\n",
      "13\n",
      "14\n",
      "15\n",
      "16\n",
      "17\n",
      "18\n",
      "19\n"
     ]
    }
   ],
   "source": [
    "for i in range(20):\n",
    "  print(i)"
   ]
  },
  {
   "cell_type": "code",
   "execution_count": 133,
   "metadata": {
    "colab": {
     "base_uri": "https://localhost:8080/"
    },
    "executionInfo": {
     "elapsed": 1049,
     "status": "ok",
     "timestamp": 1617431536241,
     "user": {
      "displayName": "Bundit Thanasopon",
      "photoUrl": "https://lh3.googleusercontent.com/a-/AOh14GhFrZ7oxjzlmEjlrcpVO-8cd_Ba06JRTc0s9O4rVA=s64",
      "userId": "04744482803489102160"
     },
     "user_tz": -420
    },
    "id": "SaQoOofNbbhP",
    "outputId": "4dadc85a-6439-45df-9012-bf6a75528986"
   },
   "outputs": [
    {
     "name": "stdout",
     "output_type": "stream",
     "text": [
      "apple\n",
      "orange\n",
      "banana\n"
     ]
    }
   ],
   "source": [
    "mylist = ['apple', 'orange', 'banana']\n",
    "\n",
    "for i in range(len(mylist)):\n",
    "  print(mylist[i])"
   ]
  },
  {
   "cell_type": "markdown",
   "metadata": {
    "id": "SfT29EfKTJaJ"
   },
   "source": [
    "## Tuples\n",
    "\n",
    "Lists are used to store multiple items in a single variable.\n",
    "\n",
    "A tuple is a collection which is **ordered** and **unchangeable**.\n",
    "\n",
    "\n",
    "*   **ordered** - When we say that tuples are ordered, it means that the items have a defined order, and that order will not change.\n",
    "*   **unchangeable** - Tuples are unchangeable, meaning that we cannot change, add or remove items after the tuple has been created.\n",
    "\n"
   ]
  },
  {
   "cell_type": "code",
   "execution_count": 138,
   "metadata": {
    "colab": {
     "base_uri": "https://localhost:8080/"
    },
    "executionInfo": {
     "elapsed": 370,
     "status": "ok",
     "timestamp": 1720938304838,
     "user": {
      "displayName": "Bundit Thanasopon",
      "userId": "04744482803489102160"
     },
     "user_tz": -420
    },
    "id": "Kt452welTgPA",
    "outputId": "8385ce1b-1bb9-4c36-98a5-3e77a4c9e1de"
   },
   "outputs": [
    {
     "name": "stdout",
     "output_type": "stream",
     "text": [
      "('apple', 'kiwi', 'strawberry', 'pineapple', 'Durian')\n",
      "apple\n",
      "('kiwi', 'strawberry')\n"
     ]
    }
   ],
   "source": [
    "mytuple = ('apple', 'kiwi', 'strawberry', 'pineapple', 'Durian')\n",
    "\n",
    "print(mytuple)\n",
    "\n",
    "print(mytuple[0])\n",
    "\n",
    "print(mytuple[1:3])"
   ]
  },
  {
   "cell_type": "markdown",
   "metadata": {
    "id": "W8C7dAI6VwVZ"
   },
   "source": [
    "### Unchangeable\n",
    "You cannot **change, add, or remove** items once the tuple is created.\n"
   ]
  },
  {
   "cell_type": "code",
   "execution_count": 136,
   "metadata": {
    "colab": {
     "base_uri": "https://localhost:8080/"
    },
    "executionInfo": {
     "elapsed": 399,
     "status": "ok",
     "timestamp": 1720938417132,
     "user": {
      "displayName": "Bundit Thanasopon",
      "userId": "04744482803489102160"
     },
     "user_tz": -420
    },
    "id": "bw1QT77yVxma",
    "outputId": "14e857e1-5c0c-4d07-ebdd-f64fc3d9e002"
   },
   "outputs": [
    {
     "name": "stdout",
     "output_type": "stream",
     "text": [
      "['orange', 'kiwi', 'strawberry', 'pineapple', 'Durian']\n"
     ]
    }
   ],
   "source": [
    "mylist = list(mytuple)\n",
    "mylist[0] = \"orange\"\n",
    "print(mylist)\n",
    "# mytuple[0] = \"orange\"\n"
   ]
  },
  {
   "cell_type": "markdown",
   "metadata": {
    "id": "0xB1w5hr01xa"
   },
   "source": [
    "**Exercise #1**\n",
    "\n",
    "\n",
    "```\n",
    "tuple1 = (11, 22, 33, 44, 55, 66)\n",
    "```\n",
    "\n",
    "จาก `'tuple1'` ให้นำค่า `44` และ `55` มาสร้างเป็น `'tuple2'`\n",
    "\n",
    "**Expected Output**\n",
    "```\n",
    "tuple2 = (44, 55)\n",
    "```\n",
    "\n"
   ]
  },
  {
   "cell_type": "code",
   "execution_count": 140,
   "metadata": {
    "colab": {
     "base_uri": "https://localhost:8080/"
    },
    "executionInfo": {
     "elapsed": 354,
     "status": "ok",
     "timestamp": 1720938856071,
     "user": {
      "displayName": "Bundit Thanasopon",
      "userId": "04744482803489102160"
     },
     "user_tz": -420
    },
    "id": "BmxolwJr13OL",
    "outputId": "8203dcbf-02b3-43fd-d428-522ad81455b5"
   },
   "outputs": [
    {
     "data": {
      "text/plain": [
       "(44, 55)"
      ]
     },
     "execution_count": 140,
     "metadata": {},
     "output_type": "execute_result"
    }
   ],
   "source": [
    "# YOUR CODE HERE\n",
    "tuple1 = (11, 22, 33, 44, 55, 66)\n",
    "\n",
    "tuple2 = tuple1[3:5]\n",
    "\n",
    "tuple2\n"
   ]
  },
  {
   "cell_type": "markdown",
   "metadata": {
    "id": "gZm8ywI818sv"
   },
   "source": [
    "**Exercise #2**\n",
    "\n",
    "\n",
    "```\n",
    "myTuple = (45, 44, 421, 4, '4', 'Python', 44, '44', 'cat', 2, 4.4, 44)\n",
    "```\n",
    "จาก `'myTuple'` จงนับจำนวน `44` และหา index ของ `'Python'`\n",
    "\n",
    "**Expected Output**\n",
    "\n",
    "\n",
    "```\n",
    "3\n",
    "5\n",
    "```\n",
    "\n",
    "*Hint:*\n",
    "The method index() returns the lowest index in the list where the element searched for appears.\n",
    "```\n",
    "numbers = [1, 2, 3, 4, 5, 6, 7, 8, 9, 10]\n",
    "element = 3\n",
    "list_numbers.index(element)\n",
    "-----\n",
    "2\n",
    "```\n"
   ]
  },
  {
   "cell_type": "code",
   "execution_count": null,
   "metadata": {
    "colab": {
     "base_uri": "https://localhost:8080/"
    },
    "executionInfo": {
     "elapsed": 392,
     "status": "ok",
     "timestamp": 1720938996742,
     "user": {
      "displayName": "Bundit Thanasopon",
      "userId": "04744482803489102160"
     },
     "user_tz": -420
    },
    "id": "Fr9UkfwL52tL",
    "outputId": "0ec6546a-c685-456d-8718-31a0f1f18522"
   },
   "outputs": [],
   "source": [
    "# YOUR CODE HERE\n",
    "myTuple = (45, 44, 421, 4, '4', 'Python', 44, '44', 'cat', 2, 4.4, 44)\n",
    "\n"
   ]
  },
  {
   "cell_type": "markdown",
   "metadata": {
    "id": "uvbZeeQ2WWHx"
   },
   "source": [
    "## Sets\n",
    "A set is a collection which is both **unordered**, **unchangeable**, and **do not allow duplicate** values.\n",
    "\n",
    "Sets are written with curly brackets.\n",
    "\n",
    "\n",
    "*Note: Sets are unordered, so you cannot be sure in which order the items will appear.*"
   ]
  },
  {
   "cell_type": "code",
   "execution_count": 147,
   "metadata": {
    "colab": {
     "base_uri": "https://localhost:8080/"
    },
    "executionInfo": {
     "elapsed": 387,
     "status": "ok",
     "timestamp": 1720939219377,
     "user": {
      "displayName": "Bundit Thanasopon",
      "userId": "04744482803489102160"
     },
     "user_tz": -420
    },
    "id": "OH_fl6iXWn8C",
    "outputId": "81bd1a35-6747-412f-f4de-a2dd085ff762"
   },
   "outputs": [
    {
     "name": "stdout",
     "output_type": "stream",
     "text": [
      "apple\n",
      "pineapple\n",
      "cherry\n",
      "{'apple', 'pineapple', 'cherry'}\n"
     ]
    }
   ],
   "source": [
    "myset = {\"apple\", \"apple\", \"cherry\", \"pineapple\"}\n",
    "\n",
    "# You cannot access items in a set by referring to an index or a key.\n",
    "# But you can loop through the set items using a \"for loop\".\n",
    "\n",
    "for x in myset:\n",
    "  print(x)\n",
    "\n",
    "print(myset)"
   ]
  },
  {
   "cell_type": "code",
   "execution_count": null,
   "metadata": {
    "colab": {
     "base_uri": "https://localhost:8080/"
    },
    "executionInfo": {
     "elapsed": 1092,
     "status": "ok",
     "timestamp": 1616306685695,
     "user": {
      "displayName": "Bundit Thanasopon",
      "photoUrl": "https://lh3.googleusercontent.com/a-/AOh14GhFrZ7oxjzlmEjlrcpVO-8cd_Ba06JRTc0s9O4rVA=s64",
      "userId": "04744482803489102160"
     },
     "user_tz": -420
    },
    "id": "1Owe4SWfYg0y",
    "outputId": "48272665-7078-4abd-c29b-dcc190fa285d"
   },
   "outputs": [],
   "source": [
    "# Or ask if a specified value is present in a set, by using the \"in\" keyword.\n",
    "\n",
    "print(\"apple\" in myset)\n",
    "\n",
    "print(\"orange\" in myset)"
   ]
  },
  {
   "cell_type": "markdown",
   "metadata": {
    "id": "hh7yT2t2Xbiu"
   },
   "source": [
    "### Unchangeable\n",
    "\n",
    "Once a set is created, you cannot change its items, but you can add new items or remove items."
   ]
  },
  {
   "cell_type": "code",
   "execution_count": 142,
   "metadata": {
    "colab": {
     "base_uri": "https://localhost:8080/"
    },
    "executionInfo": {
     "elapsed": 386,
     "status": "ok",
     "timestamp": 1720939402589,
     "user": {
      "displayName": "Bundit Thanasopon",
      "userId": "04744482803489102160"
     },
     "user_tz": -420
    },
    "id": "2vlCudeVYDCD",
    "outputId": "8203ac9e-343b-45fa-c050-d4c9b4eb1cd3"
   },
   "outputs": [
    {
     "name": "stdout",
     "output_type": "stream",
     "text": [
      "{'pineapple', 'orange', 'apple', 'cherry', 'banana'}\n",
      "{'pineapple', 'orange', 'apple', 'cherry', 'kiwi', 'banana', 'coconut'}\n",
      "{'pineapple', 'orange', 'apple', 'cherry', 'kiwi', 'banana', 'coconut'}\n",
      "{'pineapple', 'orange', 'apple', 'cherry', 'kiwi', 'banana', 'coconut'}\n",
      "{'pineapple', 'orange', 'apple', 'cherry', 'banana', 'coconut'}\n"
     ]
    }
   ],
   "source": [
    "myset = {\"apple\", \"banana\", \"cherry\", \"pineapple\"}\n",
    "\n",
    "# Adding new item to sets\n",
    "myset.add(\"orange\")\n",
    "\n",
    "print(myset)\n",
    "\n",
    "# To add items from another set into the current set, use the update() method.\n",
    "myset.update({\"kiwi\", \"coconut\"})\n",
    "\n",
    "print(myset)\n",
    "\n",
    "myset.update([\"orange\", \"kiwi\"])\n",
    "\n",
    "print(myset)\n",
    "\n",
    "# Add items that already exist in the set\n",
    "myset.add(\"kiwi\")\n",
    "\n",
    "print(myset)\n",
    "\n",
    "#removing item from set\n",
    "myset.remove(\"kiwi\")\n",
    "\n",
    "print(myset)"
   ]
  },
  {
   "cell_type": "markdown",
   "metadata": {
    "id": "0VzEIQrIZx3g"
   },
   "source": [
    "## Joining Two Sets\n",
    "There are several ways to join two or more sets in Python.\n",
    "\n",
    "You can use the **union()** method that returns a new set containing all items from both sets, or the **update()** method that inserts all the items from one set into another.\n",
    "\n",
    "You can also use **intersection()** method that returns a new set containing items that are in both sets."
   ]
  },
  {
   "cell_type": "code",
   "execution_count": null,
   "metadata": {
    "colab": {
     "base_uri": "https://localhost:8080/"
    },
    "executionInfo": {
     "elapsed": 628,
     "status": "ok",
     "timestamp": 1720318393560,
     "user": {
      "displayName": "Bundit Thanasopon",
      "userId": "04744482803489102160"
     },
     "user_tz": -420
    },
    "id": "a5Olie-ZZzVR",
    "outputId": "95b3d8e7-e50a-41a3-c87c-633496af19b8"
   },
   "outputs": [],
   "source": [
    "set1 = {\"a\", \"b\" , \"c\"}\n",
    "set2 = {1, 2, 3, \"a\"}\n",
    "\n",
    "set3 = set1.union(set2)\n",
    "print(set3)\n",
    "\n",
    "set4 = set1.intersection(set2)\n",
    "print(set4)"
   ]
  },
  {
   "cell_type": "markdown",
   "metadata": {
    "id": "XXyvWOpL6CY6"
   },
   "source": [
    "**Exercise**\n",
    "\n",
    "\n",
    "```\n",
    "sample_set = {\"Yellow\", \"Orange\", \"Black\", \"Pink\"}\n",
    "sample_list = [\"Blue\", \"Green\", \"Red\"]\n",
    "```\n",
    "\n",
    "\n",
    "```\n",
    "my_set = {\"Brown\", \"Red\", \"White\", \"Pink\"}\n",
    "```\n",
    "\n",
    "\n",
    "\n",
    "จากค่าที่กำหนด ให้นำ `'sample_list'` เพิ่มใน `'sample_set'` และแสดงค่าที่เหมือนกันระหว่าง `'sample_set'` และ `'my_set'`\n",
    "\n",
    "**Expected Output**\n",
    "\n",
    "\n",
    "```\n",
    "{'Red', 'Pink'}\n",
    "```\n",
    "\n",
    "\n"
   ]
  },
  {
   "cell_type": "code",
   "execution_count": 155,
   "metadata": {
    "colab": {
     "base_uri": "https://localhost:8080/"
    },
    "executionInfo": {
     "elapsed": 352,
     "status": "ok",
     "timestamp": 1720939929404,
     "user": {
      "displayName": "Bundit Thanasopon",
      "userId": "04744482803489102160"
     },
     "user_tz": -420
    },
    "id": "L5-b9Pwx_t3Y",
    "outputId": "7ec123fe-ac1a-49c7-e608-3a55d047d8a4"
   },
   "outputs": [
    {
     "data": {
      "text/plain": [
       "{'Pink', 'Red'}"
      ]
     },
     "execution_count": 155,
     "metadata": {},
     "output_type": "execute_result"
    }
   ],
   "source": [
    "# YOUR CODE HERE\n",
    "sample_set = {\"Yellow\", \"Orange\", \"Black\", \"Pink\"}\n",
    "sample_list = [\"Blue\", \"Green\", \"Red\"]\n",
    "my_set = {\"Brown\", \"Red\", \"White\", \"Pink\"}\n",
    "sample_set.update(sample_list)\n",
    "result = sample_set.intersection(my_set)\n",
    "result\n"
   ]
  },
  {
   "cell_type": "markdown",
   "metadata": {
    "id": "vCJcJ_MooCh3"
   },
   "source": [
    "## Dictionaries\n",
    "\n",
    "Dictionaries are used to store data values in key:value pairs.\n",
    "\n",
    "A dictionary is a collection which is **ordered, changeable and does not allow duplicates**."
   ]
  },
  {
   "cell_type": "code",
   "execution_count": 156,
   "metadata": {
    "colab": {
     "base_uri": "https://localhost:8080/"
    },
    "executionInfo": {
     "elapsed": 380,
     "status": "ok",
     "timestamp": 1720940410603,
     "user": {
      "displayName": "Bundit Thanasopon",
      "userId": "04744482803489102160"
     },
     "user_tz": -420
    },
    "id": "ku1Wn4yxoSR1",
    "outputId": "d9216d12-2b76-4924-8aff-d9a31c9ac362"
   },
   "outputs": [
    {
     "name": "stdout",
     "output_type": "stream",
     "text": [
      "{'name': {'firstname': 'Bundit', 'lastname': 'Thanasopon'}, 'nickname': 'Jack', 'fav_color': ['red', 'blue', 'yellow'], 'age': 35}\n",
      "Jack\n",
      "Bundit\n",
      "red\n"
     ]
    }
   ],
   "source": [
    "mydict = {\n",
    "  \"name\": {\"firstname\": \"Bundit\", \"lastname\": \"Thanasopon\"},\n",
    "  \"nickname\": \"Jack\",\n",
    "  \"fav_color\": [\"red\", \"blue\", \"yellow\"],\n",
    "  \"age\": 35\n",
    "}\n",
    "\n",
    "print(mydict)\n",
    "\n",
    "print(mydict[\"nickname\"])\n",
    "\n",
    "print(mydict[\"name\"][\"firstname\"])\n",
    "\n",
    "print(mydict[\"fav_color\"][0])"
   ]
  },
  {
   "cell_type": "code",
   "execution_count": 157,
   "metadata": {
    "colab": {
     "base_uri": "https://localhost:8080/"
    },
    "executionInfo": {
     "elapsed": 403,
     "status": "ok",
     "timestamp": 1720940529245,
     "user": {
      "displayName": "Bundit Thanasopon",
      "userId": "04744482803489102160"
     },
     "user_tz": -420
    },
    "id": "P-HJdWKMpmKM",
    "outputId": "804eea94-b71c-4c29-d488-23d95362e851"
   },
   "outputs": [
    {
     "name": "stdout",
     "output_type": "stream",
     "text": [
      "dict_keys(['name', 'nickname', 'fav_color', 'age'])\n",
      "-------------------\n",
      "Keys:\n",
      "name\n",
      "nickname\n",
      "fav_color\n",
      "age\n"
     ]
    }
   ],
   "source": [
    "# Get the list of keys\n",
    "print(mydict.keys())\n",
    "print('-------------------')\n",
    "print('Keys:')\n",
    "for key in mydict.keys():\n",
    "  print(key)"
   ]
  },
  {
   "cell_type": "code",
   "execution_count": 158,
   "metadata": {
    "colab": {
     "base_uri": "https://localhost:8080/"
    },
    "executionInfo": {
     "elapsed": 520,
     "status": "ok",
     "timestamp": 1720318405721,
     "user": {
      "displayName": "Bundit Thanasopon",
      "userId": "04744482803489102160"
     },
     "user_tz": -420
    },
    "id": "Skq7O6raS-PA",
    "outputId": "67a90694-58e2-40d9-b19c-9a9213c9f3f4"
   },
   "outputs": [
    {
     "name": "stdout",
     "output_type": "stream",
     "text": [
      "dict_values([{'firstname': 'Bundit', 'lastname': 'Thanasopon'}, 'Jack', ['red', 'blue', 'yellow'], 35])\n",
      "Values:\n",
      "{'firstname': 'Bundit', 'lastname': 'Thanasopon'}\n",
      "Jack\n",
      "['red', 'blue', 'yellow']\n",
      "35\n"
     ]
    }
   ],
   "source": [
    "# Get the list of values\n",
    "print(mydict.values())\n",
    "print('Values:')\n",
    "for value in mydict.values():\n",
    "  print(value)"
   ]
  },
  {
   "cell_type": "code",
   "execution_count": 159,
   "metadata": {
    "colab": {
     "base_uri": "https://localhost:8080/"
    },
    "executionInfo": {
     "elapsed": 2,
     "status": "ok",
     "timestamp": 1720318413192,
     "user": {
      "displayName": "Bundit Thanasopon",
      "userId": "04744482803489102160"
     },
     "user_tz": -420
    },
    "id": "90gQoyVHo4cx",
    "outputId": "1ce540a8-74b8-4508-cca7-15fb0fb0ca4e"
   },
   "outputs": [
    {
     "data": {
      "text/plain": [
       "{'firstname': 'Bundit',\n",
       " 'lastname': 'Thanasopon',\n",
       " 'nickname': 'Jack',\n",
       " 'fav_color': ['red', 'blue', 'yellow'],\n",
       " 'age': 15}"
      ]
     },
     "execution_count": 159,
     "metadata": {},
     "output_type": "execute_result"
    }
   ],
   "source": [
    "# Dictionaries cannot have two items with the same key\n",
    "mydict = {\n",
    "  \"firstname\": \"Bundit\",\n",
    "  \"lastname\": \"Thanasopon\",\n",
    "  \"nickname\": \"Jack\",\n",
    "  \"fav_color\": [\"red\", \"blue\", \"yellow\"],\n",
    "  \"age\": 35,\n",
    "  \"age\": 30,\n",
    "  \"age\": 15,\n",
    "}\n",
    "\n",
    "mydict"
   ]
  },
  {
   "cell_type": "markdown",
   "metadata": {
    "id": "tiLC2iOY-AXF"
   },
   "source": [
    "### Modifying dictionaries"
   ]
  },
  {
   "cell_type": "markdown",
   "metadata": {
    "id": "bKGhs5zm-Umt"
   },
   "source": [
    "#### Change values"
   ]
  },
  {
   "cell_type": "code",
   "execution_count": null,
   "metadata": {
    "colab": {
     "base_uri": "https://localhost:8080/"
    },
    "executionInfo": {
     "elapsed": 373,
     "status": "ok",
     "timestamp": 1720940668006,
     "user": {
      "displayName": "Bundit Thanasopon",
      "userId": "04744482803489102160"
     },
     "user_tz": -420
    },
    "id": "13bUrlBXqL1s",
    "outputId": "68622eab-eb07-4d65-8d4e-3bbaf46bd7c9"
   },
   "outputs": [],
   "source": [
    "# Change Values\n",
    "mydict = {\n",
    "  \"firstname\": \"Bundit\",\n",
    "  \"lastname\": \"Thanasopon\",\n",
    "  \"nickname\": \"Jack\",\n",
    "  \"fav_color\": [\"red\", \"blue\", \"yellow\"],\n",
    "  \"age\": 35\n",
    "}\n",
    "\n",
    "mydict[\"nickname\"] = \"J\"\n",
    "\n",
    "mydict[\"age\"] = 40\n",
    "mydict"
   ]
  },
  {
   "cell_type": "markdown",
   "metadata": {
    "id": "bLUAS0q_-Jjf"
   },
   "source": [
    "#### Add a new key-pair / remove a key-pair"
   ]
  },
  {
   "cell_type": "code",
   "execution_count": null,
   "metadata": {
    "colab": {
     "base_uri": "https://localhost:8080/"
    },
    "executionInfo": {
     "elapsed": 387,
     "status": "ok",
     "timestamp": 1720940725028,
     "user": {
      "displayName": "Bundit Thanasopon",
      "userId": "04744482803489102160"
     },
     "user_tz": -420
    },
    "id": "M958ZWD_q16I",
    "outputId": "d5260da1-8235-4c0b-df50-f5f995f4f1b8"
   },
   "outputs": [],
   "source": [
    "# Add a key-value pair\n",
    "mydict = {\n",
    "  \"firstname\": \"Bundit\",\n",
    "  \"lastname\": \"Thanasopon\",\n",
    "  \"nickname\": \"Jack\",\n",
    "  \"fav_color\": [\"red\", \"blue\", \"yellow\"],\n",
    "  \"age\": 35\n",
    "}\n",
    "\n",
    "mydict[\"nationality\"] = \"Thai\"\n",
    "\n",
    "mydict"
   ]
  },
  {
   "cell_type": "code",
   "execution_count": 1,
   "metadata": {
    "colab": {
     "base_uri": "https://localhost:8080/"
    },
    "executionInfo": {
     "elapsed": 339,
     "status": "ok",
     "timestamp": 1720940745767,
     "user": {
      "displayName": "Bundit Thanasopon",
      "userId": "04744482803489102160"
     },
     "user_tz": -420
    },
    "id": "FG9CTY2wrIrx",
    "outputId": "1040c2f0-f953-43d2-b1d6-3b197430873f"
   },
   "outputs": [
    {
     "name": "stdout",
     "output_type": "stream",
     "text": [
      "{'firstname': 'Bundit', 'lastname': 'Thanasopon', 'nickname': 'Jack'}\n",
      "35\n",
      "['red', 'blue', 'yellow']\n"
     ]
    }
   ],
   "source": [
    "# Remove a key-value pair\n",
    "mydict = {\n",
    "  \"firstname\": \"Bundit\",\n",
    "  \"lastname\": \"Thanasopon\",\n",
    "  \"nickname\": \"Jack\",\n",
    "  \"fav_color\": [\"red\", \"blue\", \"yellow\"],\n",
    "  \"age\": 35\n",
    "}\n",
    "\n",
    "a = mydict.pop('age')\n",
    "b = mydict.pop('fav_color')\n",
    "\n",
    "print(mydict)\n",
    "\n",
    "print(a)\n",
    "print(b)"
   ]
  },
  {
   "cell_type": "markdown",
   "metadata": {
    "id": "Mc2O4vZkrgir"
   },
   "source": [
    "### Loop Through a Dictionary\n",
    "You can loop through a dictionary by using a for loop."
   ]
  },
  {
   "cell_type": "code",
   "execution_count": 160,
   "metadata": {
    "colab": {
     "base_uri": "https://localhost:8080/"
    },
    "executionInfo": {
     "elapsed": 368,
     "status": "ok",
     "timestamp": 1720941112809,
     "user": {
      "displayName": "Bundit Thanasopon",
      "userId": "04744482803489102160"
     },
     "user_tz": -420
    },
    "id": "iwaHYnV5rqXI",
    "outputId": "2bfe9c63-4ee5-4c86-d638-a02f21473211"
   },
   "outputs": [
    {
     "name": "stdout",
     "output_type": "stream",
     "text": [
      "firstname --> Bundit\n",
      "lastname --> Thanasopon\n",
      "nickname --> Jack\n",
      "fav_color --> ['red', 'blue', 'yellow']\n",
      "age --> 35\n"
     ]
    }
   ],
   "source": [
    "mydict = {\n",
    "  \"firstname\": \"Bundit\",\n",
    "  \"lastname\": \"Thanasopon\",\n",
    "  \"nickname\": \"Jack\",\n",
    "  \"fav_color\": [\"red\", \"blue\", \"yellow\"],\n",
    "  \"age\": 35\n",
    "}\n",
    "\n",
    "# print(mydict.items())\n",
    "\n",
    "for (k, v) in mydict.items():\n",
    "  # print(item)\n",
    "  print(k, '-->', v)"
   ]
  },
  {
   "cell_type": "code",
   "execution_count": 161,
   "metadata": {
    "colab": {
     "base_uri": "https://localhost:8080/"
    },
    "executionInfo": {
     "elapsed": 369,
     "status": "ok",
     "timestamp": 1720941219929,
     "user": {
      "displayName": "Bundit Thanasopon",
      "userId": "04744482803489102160"
     },
     "user_tz": -420
    },
    "id": "svgFdjYFFXoJ",
    "outputId": "95b377bc-9a56-447c-e2ba-e990fdb2680c"
   },
   "outputs": [
    {
     "name": "stdout",
     "output_type": "stream",
     "text": [
      "3\n",
      "4\n",
      "5\n"
     ]
    }
   ],
   "source": [
    "(a, b, c) = [3, 4, 5]\n",
    "\n",
    "print(a)\n",
    "print(b)\n",
    "print(c)"
   ]
  },
  {
   "cell_type": "markdown",
   "metadata": {
    "id": "8vJK3eip-vlO"
   },
   "source": [
    "### Dictionary Exercises"
   ]
  },
  {
   "cell_type": "markdown",
   "metadata": {
    "id": "TAGAYl2hsAuu"
   },
   "source": [
    "**Exercise #1**\n",
    "\n",
    "จง print ค่า 'hello' ออกมาจาก dictionary ด้านล่าง:"
   ]
  },
  {
   "cell_type": "code",
   "execution_count": 2,
   "metadata": {
    "id": "g44bgnB-sMkp"
   },
   "outputs": [
    {
     "name": "stdout",
     "output_type": "stream",
     "text": [
      "hello\n",
      "hello\n",
      "hello\n"
     ]
    }
   ],
   "source": [
    "d1 = {'simple_key':'hello'}\n",
    "\n",
    "d2 = {'k1':{'k2':'hello'}}\n",
    "\n",
    "d3 = {'k1':[\n",
    "          {'nest_key':['this is deep',['hello']]}\n",
    "        ]\n",
    "      }\n",
    "\n",
    "# YOUR CODE HERE\n",
    "print(d1['simple_key'])\n",
    "print(d2['k1']['k2'])\n",
    "print(d3['k1'][0]['nest_key'][1][0])\n"
   ]
  },
  {
   "cell_type": "markdown",
   "metadata": {
    "id": "pKjMQbya_5H9"
   },
   "source": [
    "**Exercise #2**\n",
    "\n",
    "\n",
    "```\n",
    "sample_dict = {\n",
    "  \"name\": \"Kelly\",\n",
    "  \"age\":25,\n",
    "  \"salary\": 8000,\n",
    "  \"city\": \"New york\"\n",
    "}\n",
    "```\n",
    "จาก Dictionary ที่กำหนด จงเปลี่ยนชื่อ key `'city'` เป็น `'location'`\n",
    "\n",
    "**Expected Output**\n",
    "\n",
    "\n",
    "```\n",
    "{'name': 'Kelly', 'age': 25, 'salary': 8000, 'location': 'New york'}\n",
    "```\n",
    "\n"
   ]
  },
  {
   "cell_type": "code",
   "execution_count": 163,
   "metadata": {
    "colab": {
     "base_uri": "https://localhost:8080/"
    },
    "executionInfo": {
     "elapsed": 365,
     "status": "ok",
     "timestamp": 1720942596179,
     "user": {
      "displayName": "Bundit Thanasopon",
      "userId": "04744482803489102160"
     },
     "user_tz": -420
    },
    "id": "lMIktiVAB9go",
    "outputId": "18911bce-d457-4178-9307-b2207a2942df"
   },
   "outputs": [
    {
     "data": {
      "text/plain": [
       "{'name': 'Kelly', 'age': 25, 'salary': 8000, 'location': 'New york'}"
      ]
     },
     "execution_count": 163,
     "metadata": {},
     "output_type": "execute_result"
    }
   ],
   "source": [
    "# YOUR CODE HERE\n",
    "sample_dict = {\n",
    "    \"name\":\"Kelly\",\n",
    "    \"age\":25,\n",
    "    \"salary\":8000,\n",
    "    \"city\":\"New york\"\n",
    "}\n",
    "temp = sample_dict.pop(\"city\")\n",
    "sample_dict['location'] = temp\n",
    "sample_dict"
   ]
  },
  {
   "cell_type": "markdown",
   "metadata": {
    "id": "6_rzPpIeCE6v"
   },
   "source": [
    "**Exercise #3**\n",
    "\n",
    "สร้าง Dictionary ของ คู่ตัวเลขและเลขยกกำลังสอง\n",
    "\n",
    "**Expected Output**\n",
    "\n",
    "\n",
    "\n",
    "```\n",
    "squares = {1: 1, 2: 4, 3: 9, 4: 16, 5: 25}\n",
    "```\n",
    "\n",
    "\n",
    "\n"
   ]
  },
  {
   "cell_type": "code",
   "execution_count": 4,
   "metadata": {
    "colab": {
     "base_uri": "https://localhost:8080/"
    },
    "executionInfo": {
     "elapsed": 376,
     "status": "ok",
     "timestamp": 1720942690018,
     "user": {
      "displayName": "Bundit Thanasopon",
      "userId": "04744482803489102160"
     },
     "user_tz": -420
    },
    "id": "_FSQ2yYQF-FB",
    "outputId": "d9f038a3-c424-4451-953c-c6d52ece9dfe"
   },
   "outputs": [
    {
     "data": {
      "text/plain": [
       "{1: 1, 2: 4, 3: 9, 4: 16, 5: 25}"
      ]
     },
     "execution_count": 4,
     "metadata": {},
     "output_type": "execute_result"
    }
   ],
   "source": [
    "# YOUR CODE HERE\n",
    "squares = {}\n",
    "\n",
    "\n",
    "for i in range(1,6):\n",
    "    squares[i] = i ** 2\n",
    "squares"
   ]
  },
  {
   "cell_type": "markdown",
   "metadata": {
    "id": "WXE-7jFGGUCC"
   },
   "source": [
    "**Exercise #4**\n",
    "\n",
    "\n",
    "```\n",
    "inventory = {\n",
    "    'gold' : 500,\n",
    "    'pouch' : ['flint', 'twine', 'gemstone'],\n",
    "    'backpack' : ['xylophone','dagger', 'bedroll','bread loaf']\n",
    "}\n",
    "```\n",
    "\n",
    "จาก Dictionary ให้ดำเนินการดังต่อไปนี้\n",
    "\n",
    "*   เพิ่ม key ไปยัง inventory ชื่อ `'pocket'` และกำหนด value เป็น `['seashell', 'strange berry', 'lint']`\n",
    "*   เรียงลำดับ value ใน `'backpack'` ตามตัวอักษร\n",
    "  * **[HINT]** ใช้ *.sort()* method\n",
    "*   ลบ `'dagger'` ออกจาก `'backpack'`\n",
    "*   เพิ่มค่า `'gold'` เป็น `550`\n",
    "\n",
    "และให้แสดงผล Output ดังนี้\n",
    "\n",
    "\n",
    "```\n",
    "gold -> 550\n",
    "pouch -> ['flint', 'twine', 'gemstone']\n",
    "backpack -> ['bedroll', 'bread loaf', 'xylophone']\n",
    "pocket -> ['seashell', 'strange berry', 'lint']\n",
    "```\n",
    "\n",
    "\n",
    "\n",
    "\n",
    "\n",
    "\n"
   ]
  },
  {
   "cell_type": "code",
   "execution_count": 168,
   "metadata": {
    "colab": {
     "base_uri": "https://localhost:8080/"
    },
    "executionInfo": {
     "elapsed": 404,
     "status": "ok",
     "timestamp": 1720967716387,
     "user": {
      "displayName": "Bundit Thanasopon",
      "userId": "04744482803489102160"
     },
     "user_tz": -420
    },
    "id": "nuOqOVW7J_6q",
    "outputId": "44d8714c-e0eb-4308-d3e5-6b2566a0c27f"
   },
   "outputs": [
    {
     "data": {
      "text/plain": [
       "{'gold': 550,\n",
       " 'pouch': ['flint', 'twine', 'gemstone'],\n",
       " 'backpack': ['bedroll', 'bread loaf', 'xylophone'],\n",
       " 'pocket': ['seashell', 'strange berry', 'lint']}"
      ]
     },
     "execution_count": 168,
     "metadata": {},
     "output_type": "execute_result"
    }
   ],
   "source": [
    "inventory = {\n",
    "    'gold' : 500,\n",
    "    'pouch' : ['flint', 'twine', 'gemstone'],\n",
    "    'backpack' : ['xylophone', 'dagger', 'bedroll','bread loaf']\n",
    "}\n",
    "\n",
    "# YOUR CODE HERE\n",
    "inventory['pocket'] = ['seashell', 'strange berry', 'lint']\n",
    "inventory['backpack'].sort()\n",
    "inventory['backpack'].remove(\"dagger\")\n",
    "inventory['gold'] += 50\n",
    "\n",
    "inventory"
   ]
  }
 ],
 "metadata": {
  "colab": {
   "provenance": []
  },
  "kernelspec": {
   "display_name": "Python 3",
   "name": "python3"
  },
  "language_info": {
   "codemirror_mode": {
    "name": "ipython",
    "version": 3
   },
   "file_extension": ".py",
   "mimetype": "text/x-python",
   "name": "python",
   "nbconvert_exporter": "python",
   "pygments_lexer": "ipython3",
   "version": "3.13.5"
  }
 },
 "nbformat": 4,
 "nbformat_minor": 0
}

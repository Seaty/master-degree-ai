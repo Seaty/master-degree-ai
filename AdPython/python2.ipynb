{
 "cells": [
  {
   "cell_type": "markdown",
   "metadata": {
    "id": "gW7B9yEaNXlT"
   },
   "source": [
    "# Python Basics (2)"
   ]
  },
  {
   "cell_type": "markdown",
   "metadata": {
    "id": "vQaJ85X1x-uB"
   },
   "source": [
    "\n",
    "## Python Functions\n",
    "\n",
    "A function is a block of code which only runs when it is called.\n",
    "\n",
    "You can pass data, known as parameters, into a function.\n",
    "\n",
    "A function can return data as a result.\n",
    "\n",
    "\n",
    "\n",
    "Credit: [w3schools](https://www.w3schools.com/python/default.asp)"
   ]
  },
  {
   "cell_type": "code",
   "execution_count": 12,
   "metadata": {
    "colab": {
     "base_uri": "https://localhost:8080/"
    },
    "executionInfo": {
     "elapsed": 544,
     "status": "ok",
     "timestamp": 1720943083246,
     "user": {
      "displayName": "Bundit Thanasopon",
      "userId": "04744482803489102160"
     },
     "user_tz": -420
    },
    "id": "VM6WiQd-yW38",
    "outputId": "5b201810-3713-4465-d000-50678f8e49ee"
   },
   "outputs": [
    {
     "name": "stdout",
     "output_type": "stream",
     "text": [
      "0. Hello World! Jack\n",
      "1. Hello World! Jack\n"
     ]
    }
   ],
   "source": [
    "def print_hello(times, name=\"python\"):\n",
    "  for i in range(times):\n",
    "    print(f\"{i}. Hello World! {name}\")\n",
    "\n",
    "print_hello(times=2, name=\"Jack\")"
   ]
  },
  {
   "cell_type": "code",
   "execution_count": 13,
   "metadata": {
    "colab": {
     "base_uri": "https://localhost:8080/"
    },
    "executionInfo": {
     "elapsed": 399,
     "status": "ok",
     "timestamp": 1720943051262,
     "user": {
      "displayName": "Bundit Thanasopon",
      "userId": "04744482803489102160"
     },
     "user_tz": -420
    },
    "id": "ucIKkIfGDRs-",
    "outputId": "195fefe0-7b1c-4ef6-c0bb-8c5e6ae00cea"
   },
   "outputs": [
    {
     "name": "stdout",
     "output_type": "stream",
     "text": [
      "0. Hello World! python\n",
      "1. Hello World! python\n",
      "2. Hello World! python\n",
      "3. Hello World! python\n",
      "4. Hello World! python\n"
     ]
    }
   ],
   "source": [
    "print_hello(times=5)"
   ]
  },
  {
   "cell_type": "markdown",
   "metadata": {
    "id": "SvJ_hLF37l0P"
   },
   "source": [
    "**Exercises**"
   ]
  },
  {
   "cell_type": "code",
   "execution_count": 22,
   "metadata": {
    "colab": {
     "base_uri": "https://localhost:8080/"
    },
    "executionInfo": {
     "elapsed": 376,
     "status": "ok",
     "timestamp": 1720945674554,
     "user": {
      "displayName": "Bundit Thanasopon",
      "userId": "04744482803489102160"
     },
     "user_tz": -420
    },
    "id": "9Ah8Q2Vc7o9B",
    "outputId": "a3ae551d-812b-410c-c889-50e91ad6eea2"
   },
   "outputs": [
    {
     "name": "stdout",
     "output_type": "stream",
     "text": [
      "6\n",
      "it.kmitl.ac.th\n",
      "gmail.com\n"
     ]
    }
   ],
   "source": [
    "# เขียน function ที่ return ชื่อ domain name ของ email ที่ส่งเข้ามา\n",
    "i = 'bundit@it.kmitl.ac.th'.index('@')\n",
    "print(i) # i = 6 ซึ่งคือ index ของ @\n",
    "\n",
    "def get_domain(email):\n",
    "    # Your code here\n",
    "    return email[email.index('@') + 1:]\n",
    "\n",
    "\n",
    "\n",
    "mymail = 'bundit@it.kmitl.ac.th'\n",
    "domain1 = get_domain(mymail)\n",
    "print(domain1)\n",
    "domain2 = get_domain('admin@gmail.com')\n",
    "print(domain2)\n",
    "# Input: bundit@it.kmitl.ac.th\n",
    "# Return: 'it.kmitl.ac.th'\n",
    "# Input: bundit@gmail.com\n",
    "# Return: 'gmail.com'"
   ]
  },
  {
   "cell_type": "markdown",
   "metadata": {
    "id": "ku3FCKCsyvkh"
   },
   "source": [
    "### Arguments\n",
    "Information can be passed into functions as **arguments**."
   ]
  },
  {
   "cell_type": "code",
   "execution_count": 24,
   "metadata": {
    "colab": {
     "base_uri": "https://localhost:8080/"
    },
    "executionInfo": {
     "elapsed": 400,
     "status": "ok",
     "timestamp": 1720943909701,
     "user": {
      "displayName": "Bundit Thanasopon",
      "userId": "04744482803489102160"
     },
     "user_tz": -420
    },
    "id": "x12hkFbDy1c1",
    "outputId": "1270644a-d301-43a5-9231-d083d22ece7f"
   },
   "outputs": [
    {
     "name": "stdout",
     "output_type": "stream",
     "text": [
      "Thanasopon Bundit (Jack)\n",
      "Michael Jordan (MJ)\n"
     ]
    }
   ],
   "source": [
    "def full_name(fname, lname, nickname):\n",
    "  return '{} {} ({})'.format(fname, lname, nickname)\n",
    "\n",
    "print(full_name('Thanasopon', 'Bundit', 'Jack'))\n",
    "\n",
    "print(full_name('Michael', 'Jordan', 'MJ'))"
   ]
  },
  {
   "cell_type": "markdown",
   "metadata": {
    "id": "arcRI7VxokSq"
   },
   "source": [
    "By default, a function must be called with **the correct number of arguments**. Meaning that if your function expects 2 arguments, you have to call the function with 2 arguments, not more, and not less.\n",
    "\n"
   ]
  },
  {
   "cell_type": "code",
   "execution_count": 25,
   "metadata": {
    "colab": {
     "base_uri": "https://localhost:8080/",
     "height": 147
    },
    "executionInfo": {
     "elapsed": 421,
     "status": "error",
     "timestamp": 1720943931739,
     "user": {
      "displayName": "Bundit Thanasopon",
      "userId": "04744482803489102160"
     },
     "user_tz": -420
    },
    "id": "338kgt-konrZ",
    "outputId": "f7ebcaca-10fa-453a-e9c3-ab177cb1407d"
   },
   "outputs": [
    {
     "data": {
      "text/plain": [
       "'Bundit TH (JACK)'"
      ]
     },
     "execution_count": 25,
     "metadata": {},
     "output_type": "execute_result"
    }
   ],
   "source": [
    "full_name('Bundit','TH','JACK')"
   ]
  },
  {
   "cell_type": "markdown",
   "metadata": {
    "id": "BIeJMhgH3BQL"
   },
   "source": [
    "But, you can assign **default parameter value** to function parameters."
   ]
  },
  {
   "cell_type": "code",
   "execution_count": null,
   "metadata": {
    "colab": {
     "base_uri": "https://localhost:8080/"
    },
    "executionInfo": {
     "elapsed": 373,
     "status": "ok",
     "timestamp": 1720943991043,
     "user": {
      "displayName": "Bundit Thanasopon",
      "userId": "04744482803489102160"
     },
     "user_tz": -420
    },
    "id": "xflYvPzO3MD8",
    "outputId": "b0b3d632-cbe4-4dec-cd69-69cc4a263152"
   },
   "outputs": [
    {
     "name": "stdout",
     "output_type": "stream",
     "text": [
      "Bundit Thanasopon\n",
      "Bundit IT\n"
     ]
    }
   ],
   "source": [
    "def full_name(fname, lname='Thanasopon'):\n",
    "  return '{} {}'.format(fname, lname)\n",
    "\n",
    "print(full_name('Bundit'))\n",
    "\n",
    "print(full_name('Bundit', 'IT'))"
   ]
  },
  {
   "cell_type": "markdown",
   "metadata": {
    "id": "8iVE40Oxo2yN"
   },
   "source": [
    "### Arbitrary Arguments, *args\n",
    "If you do not know how many arguments that will be passed into your function, add a * before the parameter name in the function definition.\n",
    "\n",
    "This way the function will receive a **tuple of arguments**, and can access the items accordingly.\n",
    "\n",
    "*Note: Arbitrary Arguments are often shortened to *args in Python documentations.*"
   ]
  },
  {
   "cell_type": "code",
   "execution_count": null,
   "metadata": {
    "colab": {
     "base_uri": "https://localhost:8080/"
    },
    "executionInfo": {
     "elapsed": 400,
     "status": "ok",
     "timestamp": 1720944126421,
     "user": {
      "displayName": "Bundit Thanasopon",
      "userId": "04744482803489102160"
     },
     "user_tz": -420
    },
    "id": "wSX54R9hpGLS",
    "outputId": "9b6239c0-7109-4294-d081-b5835ecb6cbb"
   },
   "outputs": [
    {
     "name": "stdout",
     "output_type": "stream",
     "text": [
      "('Jack', 'Jo', 'Jill', 'JJ', 'JEE', 'NNN')\n",
      "Jack\n",
      "Jo\n",
      "Jill\n",
      "JJ\n",
      "JEE\n",
      "NNN\n"
     ]
    }
   ],
   "source": [
    "def my_friends(*friends):\n",
    "  print(friends)\n",
    "  for friend in friends:\n",
    "    print(friend)\n",
    "\n",
    "\n",
    "my_friends('Jack', 'Jo', 'Jill', 'JJ', 'JEE', 'NNN')"
   ]
  },
  {
   "cell_type": "markdown",
   "metadata": {
    "id": "r1lZQz0w8Xss"
   },
   "source": [
    "**Exercise #1**"
   ]
  },
  {
   "cell_type": "code",
   "execution_count": null,
   "metadata": {
    "colab": {
     "base_uri": "https://localhost:8080/"
    },
    "executionInfo": {
     "elapsed": 1361,
     "status": "ok",
     "timestamp": 1720944725728,
     "user": {
      "displayName": "Bundit Thanasopon",
      "userId": "04744482803489102160"
     },
     "user_tz": -420
    },
    "id": "oTQTxYsE8aJa",
    "outputId": "1de90180-0440-455d-e73d-78fd8b4c7483"
   },
   "outputs": [
    {
     "name": "stdout",
     "output_type": "stream",
     "text": [
      "True\n",
      "False\n"
     ]
    }
   ],
   "source": [
    "# เขียน function ที่ return True เมื่อ arguments ที่ส่งเข้ามามีคำว่า 'hello'\n",
    "# ประกาศ function ตรงนี้\n",
    "def has_hello(*items):\n",
    "    return  \"hello\" in items\n",
    "\n",
    "# return True if there is 'hello' in items\n",
    "print(has_hello('hey', 'no', 1, 'hello', 10)) # True\n",
    "\n",
    "print(has_hello('yes', '', 'bye')) # False"
   ]
  },
  {
   "cell_type": "markdown",
   "metadata": {
    "id": "r1niQTJYW10p"
   },
   "source": [
    "**Exercise #2**\n",
    "\n",
    "เขียน function `sum_number` ที่ return ค่าผลรวมของ argument ที่รับเข้ามาทั้งหมด"
   ]
  },
  {
   "cell_type": "code",
   "execution_count": 11,
   "metadata": {
    "colab": {
     "base_uri": "https://localhost:8080/"
    },
    "executionInfo": {
     "elapsed": 399,
     "status": "ok",
     "timestamp": 1720944782565,
     "user": {
      "displayName": "Bundit Thanasopon",
      "userId": "04744482803489102160"
     },
     "user_tz": -420
    },
    "id": "z4S03Fw4W390",
    "outputId": "a4d45a21-61f2-4425-cc6a-b849d199357e"
   },
   "outputs": [
    {
     "name": "stdout",
     "output_type": "stream",
     "text": [
      "42\n"
     ]
    }
   ],
   "source": [
    "def sum_number(*args):\n",
    "    ans = 0\n",
    "    for i in args:\n",
    "        if type(i) is int:\n",
    "          ans += i\n",
    "    return ans\n",
    "\n",
    "sum = sum_number(10, 5, 12, 6, 4, 5 , 'dsf')\n",
    "print(sum)"
   ]
  },
  {
   "cell_type": "markdown",
   "metadata": {
    "id": "wrHfiSRs1IhN"
   },
   "source": [
    "### Keyword Arguments\n",
    "You can also send arguments with the key = value syntax.\n",
    "\n",
    "This way the order of the arguments **does not** matter."
   ]
  },
  {
   "cell_type": "code",
   "execution_count": 27,
   "metadata": {
    "colab": {
     "base_uri": "https://localhost:8080/"
    },
    "executionInfo": {
     "elapsed": 343,
     "status": "ok",
     "timestamp": 1689497193068,
     "user": {
      "displayName": "Bundit Thanasopon",
      "userId": "04744482803489102160"
     },
     "user_tz": -420
    },
    "id": "TtM085_P1iVO",
    "outputId": "7db32ff1-e3f6-4b65-9bed-fd00ffc8b585"
   },
   "outputs": [
    {
     "name": "stdout",
     "output_type": "stream",
     "text": [
      "2.0\n",
      "2.0\n"
     ]
    }
   ],
   "source": [
    "def my_func(x, y, z):\n",
    "  return (x + y) / z\n",
    "\n",
    "result = my_func(2, 4, 3)\n",
    "print(result)\n",
    "print(my_func(z=3, x=2, y=4))\n"
   ]
  },
  {
   "cell_type": "markdown",
   "metadata": {
    "id": "DdUJxRdP1_cZ"
   },
   "source": [
    "### Arbitrary Keyword Arguments, **kwargs\n",
    "If you do not know how many keyword arguments that will be passed into your function, add two asterisk: ** before the parameter name in the function definition.\n",
    "\n",
    "This way the function will receive a dictionary of arguments, and can access the items accordingly.\n",
    "\n",
    "*Note: Arbitrary Kword Arguments are often shortened to **kwargs in Python documentations.*"
   ]
  },
  {
   "cell_type": "code",
   "execution_count": null,
   "metadata": {
    "colab": {
     "base_uri": "https://localhost:8080/"
    },
    "executionInfo": {
     "elapsed": 411,
     "status": "ok",
     "timestamp": 1720945055021,
     "user": {
      "displayName": "Bundit Thanasopon",
      "userId": "04744482803489102160"
     },
     "user_tz": -420
    },
    "id": "KnkcrJgi2OyT",
    "outputId": "02a24fa8-61e4-4143-80f6-6f8345dac629"
   },
   "outputs": [
    {
     "name": "stdout",
     "output_type": "stream",
     "text": [
      "{'fname': 'Bundit', 'lname': 'Thanasopon', 'nickname': 'Jack'}\n",
      "Bundit\n"
     ]
    }
   ],
   "source": [
    "def my_func(**kwargs):\n",
    "  print(kwargs)\n",
    "  print(kwargs['fname'])\n",
    "\n",
    "my_func(fname='Bundit', lname='Thanasopon', nickname='Jack')"
   ]
  },
  {
   "cell_type": "code",
   "execution_count": 19,
   "metadata": {
    "colab": {
     "base_uri": "https://localhost:8080/"
    },
    "executionInfo": {
     "elapsed": 381,
     "status": "ok",
     "timestamp": 1660375753487,
     "user": {
      "displayName": "Bundit Thanasopon",
      "userId": "04744482803489102160"
     },
     "user_tz": -420
    },
    "id": "FemIAU8evIYC",
    "outputId": "e6c49b9c-ca70-4a1c-d485-abfcacb7e653"
   },
   "outputs": [
    {
     "data": {
      "text/plain": [
       "8"
      ]
     },
     "execution_count": 19,
     "metadata": {},
     "output_type": "execute_result"
    }
   ],
   "source": [
    "def new_func(x, y, z):\n",
    "  return x+y+z\n",
    "\n",
    "a = [1, 2, 5]\n",
    "\n",
    "new_func(*a)"
   ]
  },
  {
   "cell_type": "code",
   "execution_count": 21,
   "metadata": {
    "colab": {
     "base_uri": "https://localhost:8080/"
    },
    "executionInfo": {
     "elapsed": 9,
     "status": "ok",
     "timestamp": 1660342842994,
     "user": {
      "displayName": "Bundit Thanasopon",
      "userId": "04744482803489102160"
     },
     "user_tz": -420
    },
    "id": "E6hTpNhVJG7F",
    "outputId": "d4ec4a7a-1a40-4ff7-b764-0edaa5576307"
   },
   "outputs": [
    {
     "data": {
      "text/plain": [
       "9"
      ]
     },
     "execution_count": 21,
     "metadata": {},
     "output_type": "execute_result"
    }
   ],
   "source": [
    "def new_func(x, y, z):\n",
    "  return x+y+z\n",
    "\n",
    "a = {\n",
    "    'x': 2,\n",
    "    'y': 3,\n",
    "    'z': 4,\n",
    "}\n",
    "new_func(**a)"
   ]
  },
  {
   "cell_type": "markdown",
   "metadata": {
    "id": "RrRRqM_DFyIN"
   },
   "source": [
    "## Python Variable Scope\n",
    "\n",
    "[source](https://www.programiz.com/python-programming/global-local-nonlocal-variables)\n",
    "\n",
    "In Python, we can declare variables in three different scopes: local scope, global, and nonlocal scope."
   ]
  },
  {
   "cell_type": "markdown",
   "metadata": {
    "id": "6nidOSoQKt2P"
   },
   "source": [
    "### Python Local Variables\n",
    "\n",
    "When we declare variables inside a function, these variables will have a local scope (within the function). We cannot access them outside the function.\n",
    "\n",
    "These types of variables are called local variables. For example,\n",
    "\n"
   ]
  },
  {
   "cell_type": "code",
   "execution_count": null,
   "metadata": {
    "colab": {
     "base_uri": "https://localhost:8080/",
     "height": 201
    },
    "executionInfo": {
     "elapsed": 373,
     "status": "error",
     "timestamp": 1720945236996,
     "user": {
      "displayName": "Bundit Thanasopon",
      "userId": "04744482803489102160"
     },
     "user_tz": -420
    },
    "id": "3bZUkK9kK10V",
    "outputId": "e704f999-382d-4e68-85a9-053e0edf5ecb"
   },
   "outputs": [
    {
     "name": "stdout",
     "output_type": "stream",
     "text": [
      "Local Hello\n"
     ]
    },
    {
     "ename": "NameError",
     "evalue": "name 'message' is not defined",
     "output_type": "error",
     "traceback": [
      "\u001b[0;31m---------------------------------------------------------------------------\u001b[0m",
      "\u001b[0;31mNameError\u001b[0m                                 Traceback (most recent call last)",
      "\u001b[0;32m<ipython-input-18-b7aa32ddc1bf>\u001b[0m in \u001b[0;36m<cell line: 12>\u001b[0;34m()\u001b[0m\n\u001b[1;32m     10\u001b[0m \u001b[0;31m# try to access message variable\u001b[0m\u001b[0;34m\u001b[0m\u001b[0;34m\u001b[0m\u001b[0m\n\u001b[1;32m     11\u001b[0m \u001b[0;31m# outside greet() function\u001b[0m\u001b[0;34m\u001b[0m\u001b[0;34m\u001b[0m\u001b[0m\n\u001b[0;32m---> 12\u001b[0;31m \u001b[0mprint\u001b[0m\u001b[0;34m(\u001b[0m\u001b[0mmessage\u001b[0m\u001b[0;34m)\u001b[0m\u001b[0;34m\u001b[0m\u001b[0;34m\u001b[0m\u001b[0m\n\u001b[0m",
      "\u001b[0;31mNameError\u001b[0m: name 'message' is not defined"
     ]
    }
   ],
   "source": [
    "def greet():\n",
    "\n",
    "    # local variable\n",
    "    message = 'Hello'\n",
    "    print('Local', message)\n",
    "\n",
    "greet()\n",
    "\n",
    "# try to access message variable\n",
    "# outside greet() function\n",
    "print(message)"
   ]
  },
  {
   "cell_type": "markdown",
   "metadata": {
    "id": "8eDBT5DGK7cd"
   },
   "source": [
    "### Python Global Variables\n",
    "\n",
    "In Python, a variable declared outside of the function or in global scope is known as a global variable. This means that a global variable can be accessed inside or outside of the function.\n",
    "\n",
    "Let's see an example of how a global variable is created in Python."
   ]
  },
  {
   "cell_type": "code",
   "execution_count": 42,
   "metadata": {
    "colab": {
     "base_uri": "https://localhost:8080/"
    },
    "executionInfo": {
     "elapsed": 370,
     "status": "ok",
     "timestamp": 1720945314096,
     "user": {
      "displayName": "Bundit Thanasopon",
      "userId": "04744482803489102160"
     },
     "user_tz": -420
    },
    "id": "Cb54JJVXLHQ0",
    "outputId": "766aabcc-3a84-43e7-9537-b41a03184ad4"
   },
   "outputs": [
    {
     "name": "stdout",
     "output_type": "stream",
     "text": [
      "Local Bye\n",
      "Global Hello\n"
     ]
    }
   ],
   "source": [
    "# declare global variable\n",
    "message = 'Hello'\n",
    "\n",
    "def greet():\n",
    "    # declare local variable\n",
    "    message = \"Bye\"\n",
    "    print('Local', message)\n",
    "\n",
    "greet()\n",
    "print('Global', message)"
   ]
  },
  {
   "cell_type": "markdown",
   "metadata": {
    "id": "ZyfckrODLdgp"
   },
   "source": [
    "### Python Nonlocal Variables\n",
    "In Python, nonlocal variables are used in nested functions whose local scope is not defined. This means that the variable can be neither in the local nor the global scope.\n",
    "\n",
    "We use the `nonlocal` keyword to create nonlocal variables. For example,\n",
    "\n"
   ]
  },
  {
   "cell_type": "code",
   "execution_count": 43,
   "metadata": {
    "colab": {
     "base_uri": "https://localhost:8080/"
    },
    "executionInfo": {
     "elapsed": 4,
     "status": "ok",
     "timestamp": 1752275265353,
     "user": {
      "displayName": "Bundit Thanasopon",
      "userId": "04744482803489102160"
     },
     "user_tz": -420
    },
    "id": "Vq1MlJvSLkrI",
    "outputId": "7c0aa63e-8240-41b0-ae77-73314f6f123b"
   },
   "outputs": [
    {
     "name": "stdout",
     "output_type": "stream",
     "text": [
      "inner: nonlocal\n",
      "outer: nonlocal\n"
     ]
    }
   ],
   "source": [
    "# outside function\n",
    "def outer():\n",
    "    message = 'local'\n",
    "\n",
    "    # nested function\n",
    "    def inner():\n",
    "\n",
    "        # declare nonlocal variable\n",
    "        nonlocal message\n",
    "\n",
    "        message = 'nonlocal'\n",
    "        print(\"inner:\", message)\n",
    "\n",
    "    inner()\n",
    "    print(\"outer:\", message)\n",
    "\n",
    "outer()"
   ]
  },
  {
   "cell_type": "markdown",
   "metadata": {
    "id": "VXB7dB6a3iVz"
   },
   "source": [
    "## Python Lambda Functions\n",
    "\n",
    "A lambda function is a small **anonymous** function.\n",
    "\n",
    "A lambda function can take any number of arguments, but can *only have one expression*.\n",
    "\n",
    "### Syntax\n",
    "\n",
    "```python\n",
    "lambda arguments : expression\n",
    "```\n",
    "\n"
   ]
  },
  {
   "cell_type": "code",
   "execution_count": null,
   "metadata": {
    "colab": {
     "base_uri": "https://localhost:8080/"
    },
    "executionInfo": {
     "elapsed": 357,
     "status": "ok",
     "timestamp": 1720945870890,
     "user": {
      "displayName": "Bundit Thanasopon",
      "userId": "04744482803489102160"
     },
     "user_tz": -420
    },
    "id": "2V_wBsDv3331",
    "outputId": "39a20b04-d64a-41c7-ec6b-047a781cd7bf"
   },
   "outputs": [
    {
     "name": "stdout",
     "output_type": "stream",
     "text": [
      "15\n",
      "15\n",
      "-3\n",
      "29\n"
     ]
    }
   ],
   "source": [
    "# This lambda function adds 10 to argument a, and return the result:\n",
    "def addten(a):\n",
    "  return a + 10\n",
    "print(addten(5))\n",
    "\n",
    "x = lambda a : a + 10\n",
    "print(x(5))\n",
    "\n",
    "# Lambda functions can take any number of arguments:\n",
    "x = lambda a, b : a - b\n",
    "print(x(6,9))\n",
    "\n",
    "x = lambda x, y, z : x + y + (lambda x : x**2)(z)\n",
    "print(x(1,3,5))"
   ]
  },
  {
   "cell_type": "markdown",
   "metadata": {
    "id": "rxVh9LLWZQRL"
   },
   "source": [
    "**Lambda functions are often used with `sort()`, `map()` and `filter()`**"
   ]
  },
  {
   "cell_type": "markdown",
   "metadata": {
    "id": "T7dp_8KYZXB6"
   },
   "source": [
    "#### sort()\n",
    "The `sort()` method sorts the list ascending by default.\n",
    "\n",
    "You can also make a function to decide the sorting criteria(s).\n",
    "\n",
    "```\n",
    "list.sort(reverse=True|False, key=myFunc)\n",
    "```"
   ]
  },
  {
   "cell_type": "code",
   "execution_count": 31,
   "metadata": {
    "colab": {
     "base_uri": "https://localhost:8080/"
    },
    "executionInfo": {
     "elapsed": 406,
     "status": "ok",
     "timestamp": 1720946027554,
     "user": {
      "displayName": "Bundit Thanasopon",
      "userId": "04744482803489102160"
     },
     "user_tz": -420
    },
    "id": "eS9TZbUZZoEf",
    "outputId": "d837ca22-6786-4b4b-d77d-db283c77443c"
   },
   "outputs": [
    {
     "data": {
      "text/plain": [
       "['Mitsubishi', 'Ford', 'BMW', 'VW']"
      ]
     },
     "execution_count": 31,
     "metadata": {},
     "output_type": "execute_result"
    }
   ],
   "source": [
    "# A function that returns the length of the value:\n",
    "def sortFunc(x):\n",
    "  return len(x)\n",
    "\n",
    "cars = ['Ford', 'Mitsubishi', 'BMW', 'VW']\n",
    "cars.sort(key=sortFunc, reverse=True)\n",
    "cars"
   ]
  },
  {
   "cell_type": "code",
   "execution_count": 32,
   "metadata": {
    "colab": {
     "base_uri": "https://localhost:8080/"
    },
    "executionInfo": {
     "elapsed": 370,
     "status": "ok",
     "timestamp": 1720946059424,
     "user": {
      "displayName": "Bundit Thanasopon",
      "userId": "04744482803489102160"
     },
     "user_tz": -420
    },
    "id": "If0zKdF5Hggr",
    "outputId": "fe26758d-4df2-47cd-cd09-c12bb1126be5"
   },
   "outputs": [
    {
     "data": {
      "text/plain": [
       "['BMW', 'Ford', 'Mitsubishi', 'VW']"
      ]
     },
     "execution_count": 32,
     "metadata": {},
     "output_type": "execute_result"
    }
   ],
   "source": [
    "cars.sort()\n",
    "cars"
   ]
  },
  {
   "cell_type": "markdown",
   "metadata": {
    "id": "IZR2dNUcZ13O"
   },
   "source": [
    "**Excercise**\n",
    "\n",
    "Sort a list of tuples using Lambda (sort by score).\n",
    "\n",
    "*Original list of tuples:*\n",
    "\n",
    "```python\n",
    "[('English', 88), ('Science', 90), ('Maths', 97), ('Social sciences', 82)]\n",
    "```\n",
    "\n",
    "Sorting the List of Tuples:\n",
    "```python\n",
    "[('Social sciences', 82), ('English', 88), ('Science', 90), ('Maths', 97)]\n",
    "```"
   ]
  },
  {
   "cell_type": "code",
   "execution_count": 44,
   "metadata": {
    "colab": {
     "base_uri": "https://localhost:8080/"
    },
    "executionInfo": {
     "elapsed": 391,
     "status": "ok",
     "timestamp": 1720946458879,
     "user": {
      "displayName": "Bundit Thanasopon",
      "userId": "04744482803489102160"
     },
     "user_tz": -420
    },
    "id": "EpI252slbDD6",
    "outputId": "5889d6fe-c2c9-4b7c-e698-52dcf68d4445"
   },
   "outputs": [
    {
     "name": "stdout",
     "output_type": "stream",
     "text": [
      "[('Social sciences', 82), ('English', 88), ('Science', 90), ('Maths', 97)]\n"
     ]
    }
   ],
   "source": [
    "mylist = [('English', 88), ('Science', 90), ('Maths', 97), ('Social sciences', 82)]\n",
    "\n",
    "def sortFunc(x):\n",
    "    return x[1]\n",
    "  # Your code here\n",
    "\n",
    "mylist.sort(key=lambda x : x[1],reverse=False)\n",
    "print(mylist)\n"
   ]
  },
  {
   "cell_type": "markdown",
   "metadata": {
    "id": "YpzydQNYAYtc"
   },
   "source": [
    "#### map()\n",
    "The `map()` function iterates through all items in the given iterable and executes the function we passed as an argument on each of them.\n",
    "\n",
    "The syntax is:\n",
    "\n",
    "```python\n",
    "map(function, iterable(s))\n",
    "```"
   ]
  },
  {
   "cell_type": "code",
   "execution_count": 5,
   "metadata": {
    "colab": {
     "base_uri": "https://localhost:8080/"
    },
    "executionInfo": {
     "elapsed": 6,
     "status": "ok",
     "timestamp": 1752275307332,
     "user": {
      "displayName": "Bundit Thanasopon",
      "userId": "04744482803489102160"
     },
     "user_tz": -420
    },
    "id": "lzstZgYqAjzH",
    "outputId": "d760ca0d-3a98-471a-9540-344b3ad2ee07"
   },
   "outputs": [
    {
     "data": {
      "text/plain": [
       "[True, False, False, True, False]"
      ]
     },
     "execution_count": 5,
     "metadata": {},
     "output_type": "execute_result"
    }
   ],
   "source": [
    "fruits = [\"Apple\", \"Banana\", \"Pear\", \"Apricot\", \"Orange\"]\n",
    "\n",
    "# Not using map\n",
    "map_object = []\n",
    "for f in fruits:\n",
    "  if f[0] == 'A':\n",
    "    map_object.append(True)\n",
    "  else:\n",
    "    map_object.append(False)\n",
    "\n",
    "map_object"
   ]
  },
  {
   "cell_type": "code",
   "execution_count": null,
   "metadata": {
    "colab": {
     "base_uri": "https://localhost:8080/"
    },
    "executionInfo": {
     "elapsed": 2,
     "status": "ok",
     "timestamp": 1720321031033,
     "user": {
      "displayName": "Bundit Thanasopon",
      "userId": "04744482803489102160"
     },
     "user_tz": -420
    },
    "id": "QkdQV242H4k5",
    "outputId": "f5957c1c-b490-42bd-e164-42b89aca63ee"
   },
   "outputs": [
    {
     "data": {
      "text/plain": [
       "[True, False, False, True, False]"
      ]
     },
     "execution_count": 9,
     "metadata": {},
     "output_type": "execute_result"
    }
   ],
   "source": [
    "fruit = [\"Apple\", \"Banana\", \"Pear\", \"Apricot\", \"Orange\"]\n",
    "# Without using lambdas\n",
    "def starts_with_A(s):\n",
    "    return s[0] == \"A\"\n",
    "\n",
    "map_object = map(starts_with_A, fruit)\n",
    "list(map_object)"
   ]
  },
  {
   "cell_type": "code",
   "execution_count": null,
   "metadata": {
    "colab": {
     "base_uri": "https://localhost:8080/"
    },
    "executionInfo": {
     "elapsed": 398,
     "status": "ok",
     "timestamp": 1720321037901,
     "user": {
      "displayName": "Bundit Thanasopon",
      "userId": "04744482803489102160"
     },
     "user_tz": -420
    },
    "id": "rd1YeESUH8Ib",
    "outputId": "b6eb078d-2a14-42db-fa60-fe0f8cf47a2f"
   },
   "outputs": [
    {
     "data": {
      "text/plain": [
       "[True, False, False, True, False]"
      ]
     },
     "execution_count": 10,
     "metadata": {},
     "output_type": "execute_result"
    }
   ],
   "source": [
    "# With lambdas\n",
    "fruit = [\"Apple\", \"Banana\", \"Pear\", \"Apricot\", \"Orange\"]\n",
    "map_object = map(lambda s: s[0] == \"A\", fruit)\n",
    "\n",
    "list(map_object)"
   ]
  },
  {
   "cell_type": "markdown",
   "metadata": {
    "id": "CI5T5zYrGL4h"
   },
   "source": [
    "**Exercises**\n",
    "\n",
    "Use map() to double the value of all items in `mylist`"
   ]
  },
  {
   "cell_type": "code",
   "execution_count": null,
   "metadata": {
    "id": "4Y4PLL59GOF7"
   },
   "outputs": [
    {
     "name": "stdout",
     "output_type": "stream",
     "text": [
      "[4, 8, 6, 10, 22, 14, 20]\n",
      "[4, 8, 6, 10, 22, 14, 20]\n"
     ]
    }
   ],
   "source": [
    "mylist = [2,4,3,5,11,7,10]\n",
    "# expected result -> [4, 8, 6, 10, 22, 14, 20]\n",
    "\n",
    "# Try using map() with normal function\n",
    "def mapFunc(x):\n",
    "    return x * 2\n",
    "  # Your code here\n",
    "\n",
    "print(list(map(mapFunc, mylist)))\n",
    "\n",
    "# Try using map() with lambda function\n",
    "# Your code here\n",
    "print(list(map(lambda x : x * 2 , mylist)))"
   ]
  },
  {
   "cell_type": "markdown",
   "metadata": {
    "id": "oF6YPsQqFZVA"
   },
   "source": [
    "#### filter()\n",
    "Similar to `map()`, `filter()` takes a function object and an iterable and creates a new list.\n",
    "As the name suggests, `filter()` forms a new list that contains only elements that satisfy a certain condition, i.e. the function we passed returns `True`.\n",
    "\n",
    "The syntax is:\n",
    "\n",
    "```python\n",
    "filter(function, iterable(s))\n",
    "```"
   ]
  },
  {
   "cell_type": "code",
   "execution_count": 73,
   "metadata": {
    "colab": {
     "base_uri": "https://localhost:8080/"
    },
    "executionInfo": {
     "elapsed": 397,
     "status": "ok",
     "timestamp": 1720947150981,
     "user": {
      "displayName": "Bundit Thanasopon",
      "userId": "04744482803489102160"
     },
     "user_tz": -420
    },
    "id": "57AYwJBMF2vP",
    "outputId": "bc0e299a-33b4-46dc-8a04-1186aad39546"
   },
   "outputs": [
    {
     "name": "stdout",
     "output_type": "stream",
     "text": [
      "['Apple', 'Apricot']\n",
      "['Apple', 'Apricot']\n"
     ]
    }
   ],
   "source": [
    "fruits = [\"Apple\", \"Banana\", \"Pear\", \"Apricot\", \"Orange\"]\n",
    "\n",
    "def filFunc(e):\n",
    "    return \"A\" in e\n",
    "  # Your code here\n",
    "\n",
    "filter_object = filter(filFunc, fruits)\n",
    "\n",
    "# With lambda function\n",
    "# Your code here\n",
    "print(list(filter(lambda x : \"A\" in x , fruits)))\n",
    "\n",
    "print(list(filter_object))"
   ]
  },
  {
   "cell_type": "markdown",
   "metadata": {
    "id": "58IhiU12Gg9o"
   },
   "source": [
    "**Exercises**"
   ]
  },
  {
   "cell_type": "code",
   "execution_count": 53,
   "metadata": {
    "colab": {
     "base_uri": "https://localhost:8080/"
    },
    "executionInfo": {
     "elapsed": 403,
     "status": "ok",
     "timestamp": 1720947534858,
     "user": {
      "displayName": "Bundit Thanasopon",
      "userId": "04744482803489102160"
     },
     "user_tz": -420
    },
    "id": "gTtJRNmTGgEc",
    "outputId": "1edcd1dc-1771-420b-bc07-f7d3f6836bd5"
   },
   "outputs": [
    {
     "data": {
      "text/plain": [
       "[2, 4, 10]"
      ]
     },
     "execution_count": 53,
     "metadata": {},
     "output_type": "execute_result"
    }
   ],
   "source": [
    "mylist = [2,4,3,5,11,7,10]\n",
    "# create a list with only even number\n",
    "# [2, 4, 10]\n",
    "\n",
    "# Your code here\n",
    "def filFunc(e):\n",
    "    return e % 2 == 0\n",
    "\n",
    "list(filter(filFunc, mylist))"
   ]
  },
  {
   "cell_type": "code",
   "execution_count": 74,
   "metadata": {
    "colab": {
     "base_uri": "https://localhost:8080/"
    },
    "executionInfo": {
     "elapsed": 373,
     "status": "ok",
     "timestamp": 1720948057082,
     "user": {
      "displayName": "Bundit Thanasopon",
      "userId": "04744482803489102160"
     },
     "user_tz": -420
    },
    "id": "OVpQVNPUKGwp",
    "outputId": "8f03ad69-84b7-43db-e11c-f9f4b4270af2"
   },
   "outputs": [
    {
     "name": "stdout",
     "output_type": "stream",
     "text": [
      "[{'name': 'Jane', 'gender': 'F'}, {'name': 'June', 'gender': 'F'}]\n",
      "['Jane', 'June']\n"
     ]
    }
   ],
   "source": [
    "mylist2 = [\n",
    "           {'name': 'Jack', 'gender': 'M'},\n",
    "           {'name': 'Jane', 'gender': 'F'},\n",
    "           {'name': 'John', 'gender': 'M'},\n",
    "           {'name': 'June', 'gender': 'F'}\n",
    "          ]\n",
    "# create a list of names with gender = 'F'\n",
    "# OUTPUT -> ['Jane', 'June']\n",
    "# Hint: use filter() then map()\n",
    "\n",
    "# Your code here\n",
    "def filFunc(person):\n",
    "    return person['gender'] == 'F'\n",
    "\n",
    "female_list = list(filter(filFunc, mylist2))\n",
    "print(female_list)\n",
    "\n",
    "print(list(map(lambda x : x['name'],female_list)))"
   ]
  },
  {
   "cell_type": "markdown",
   "metadata": {
    "id": "m85xuoQrbOeD"
   },
   "source": [
    "## String Methods\n",
    "\n",
    "Python has a set of built-in methods that you can use on strings.\n",
    "\n",
    "*Note: All string methods returns new values. They do not change the original string.*\n",
    "\n",
    "Some that you should know:\n",
    "\n",
    "* find()\n",
    "* index()\n",
    "* join()\n",
    "* split()\n",
    "* replace()\n"
   ]
  },
  {
   "cell_type": "markdown",
   "metadata": {
    "id": "SZ3lVTbBMGYU"
   },
   "source": [
    "### find() and index()\n",
    "\n",
    "The `find()` method finds the first occurrence of the specified value.\n",
    "\n",
    "The `find()` method returns -1 if the value is not found.\n",
    "\n",
    "The `find()` method is almost the same as the index() method, the only difference is that the index() method raises an exception if the value is not found."
   ]
  },
  {
   "cell_type": "code",
   "execution_count": null,
   "metadata": {
    "colab": {
     "base_uri": "https://localhost:8080/"
    },
    "executionInfo": {
     "elapsed": 402,
     "status": "ok",
     "timestamp": 1722146691522,
     "user": {
      "displayName": "Bundit Thanasopon",
      "userId": "04744482803489102160"
     },
     "user_tz": -420
    },
    "id": "gLFx-cbpMhix",
    "outputId": "459de7c0-7d0a-41b8-9abd-b9096b9e053f"
   },
   "outputs": [
    {
     "name": "stdout",
     "output_type": "stream",
     "text": [
      "True\n",
      "18\n",
      "-1\n",
      "-1\n",
      "18\n"
     ]
    }
   ],
   "source": [
    "txt = \"Hello, welcome to IT Faculty IT.\"\n",
    "\n",
    "x = txt.find(\"IT\")\n",
    "\n",
    "print(\"IT\" in txt)\n",
    "print(x)\n",
    "\n",
    "# # search 'e'. between position 5 and 10\n",
    "print(txt.find(\"IT\", 5, 10))\n",
    "\n",
    "# # find() vs. index()\n",
    "print(txt.find(\"x\"))\n",
    "print(txt.index(\"IT\"))"
   ]
  },
  {
   "cell_type": "markdown",
   "metadata": {
    "id": "RKWbSJpQNVqN"
   },
   "source": [
    "### join()\n",
    "\n",
    "The `join()` method takes all items in an iterable and joins them into one string.\n",
    "\n",
    "A string must be specified as the separator."
   ]
  },
  {
   "cell_type": "code",
   "execution_count": null,
   "metadata": {
    "colab": {
     "base_uri": "https://localhost:8080/"
    },
    "executionInfo": {
     "elapsed": 386,
     "status": "ok",
     "timestamp": 1722146819357,
     "user": {
      "displayName": "Bundit Thanasopon",
      "userId": "04744482803489102160"
     },
     "user_tz": -420
    },
    "id": "yp7QtliFN91k",
    "outputId": "c228e9f9-a81c-468f-c4aa-2171cedfc0e6"
   },
   "outputs": [
    {
     "name": "stdout",
     "output_type": "stream",
     "text": [
      "Apple; | Orange; | Strawberry; | Pear; | Durian\n",
      "name # country # job\n"
     ]
    }
   ],
   "source": [
    "mylist = [\"Apple\", \"Orange\", \"Strawberry\", \"Pear\", \"Durian\"]\n",
    "seperator = \"; | \"\n",
    "\n",
    "print(seperator.join(mylist))\n",
    "\n",
    "mydict = {\"name\": \"Jack\", \"country\": \"Thailand\", \"job\": \"Teacher\"}\n",
    "separator = \" # \"\n",
    "\n",
    "x = separator.join(mydict.keys())\n",
    "\n",
    "print(x)"
   ]
  },
  {
   "cell_type": "markdown",
   "metadata": {
    "id": "J-mjLp2ZO6Oe"
   },
   "source": [
    "### split()\n",
    "\n",
    "The `split()` method splits a string into a list.\n",
    "\n",
    "You can specify the separator, default separator is any whitespace."
   ]
  },
  {
   "cell_type": "code",
   "execution_count": null,
   "metadata": {
    "colab": {
     "base_uri": "https://localhost:8080/"
    },
    "executionInfo": {
     "elapsed": 389,
     "status": "ok",
     "timestamp": 1722146898547,
     "user": {
      "displayName": "Bundit Thanasopon",
      "userId": "04744482803489102160"
     },
     "user_tz": -420
    },
    "id": "H4GRCg-qPHn5",
    "outputId": "6fcc8e04-03c6-42f7-b37e-1bb1d669c84b"
   },
   "outputs": [
    {
     "name": "stdout",
     "output_type": "stream",
     "text": [
      "['hello,', 'my', 'name', 'is', 'Jack,', 'I', 'am', '18', 'years', 'old']\n",
      "['hello, my name is Jack, ', 'am 18 years old']\n"
     ]
    }
   ],
   "source": [
    "txt = \"hello, my name is Jack, I am 18 years old\"\n",
    "\n",
    "x = txt.split()\n",
    "\n",
    "print(x)\n",
    "\n",
    "x = txt.split(\"I \")\n",
    "\n",
    "print(x)"
   ]
  },
  {
   "cell_type": "markdown",
   "metadata": {
    "id": "tOO16zkYPnqX"
   },
   "source": [
    "### replace()\n",
    "\n",
    "The `replace()` method replaces a specified phrase with another specified phrase.\n",
    "\n",
    "```\n",
    "string.replace(oldvalue, newvalue, count)\n",
    "```"
   ]
  },
  {
   "cell_type": "code",
   "execution_count": null,
   "metadata": {
    "colab": {
     "base_uri": "https://localhost:8080/"
    },
    "executionInfo": {
     "elapsed": 375,
     "status": "ok",
     "timestamp": 1722146931582,
     "user": {
      "displayName": "Bundit Thanasopon",
      "userId": "04744482803489102160"
     },
     "user_tz": -420
    },
    "id": "-igo6dHXPv9D",
    "outputId": "d0df87f8-d2fd-46aa-ba3e-3a865116df1f"
   },
   "outputs": [
    {
     "name": "stdout",
     "output_type": "stream",
     "text": [
      "three three seven two three five three.\n",
      "three three seven two one five one.\n"
     ]
    }
   ],
   "source": [
    "txt = \"one one seven two one five one.\"\n",
    "\n",
    "x = txt.replace(\"one\", \"three\")\n",
    "\n",
    "print(x)\n",
    "\n",
    "x = txt.replace(\"one\", \"three\", 2)\n",
    "\n",
    "print(x)"
   ]
  },
  {
   "cell_type": "markdown",
   "metadata": {
    "id": "Kl6H0omfQMZ4"
   },
   "source": [
    "**Exercises**"
   ]
  },
  {
   "cell_type": "code",
   "execution_count": null,
   "metadata": {
    "colab": {
     "base_uri": "https://localhost:8080/"
    },
    "executionInfo": {
     "elapsed": 374,
     "status": "ok",
     "timestamp": 1722147551927,
     "user": {
      "displayName": "Bundit Thanasopon",
      "userId": "04744482803489102160"
     },
     "user_tz": -420
    },
    "id": "Pn1GtvafQOwM",
    "outputId": "420dc4fe-3908-4824-8897-deb9831b3b4c"
   },
   "outputs": [
    {
     "name": "stdout",
     "output_type": "stream",
     "text": [
      "bundit\n",
      "Incorrect email\n"
     ]
    }
   ],
   "source": [
    "# 1. เขียน funcion ที่รับ 1 argument เป็น string ของ email @kmitl.ac.th และ return คำที่อยู่ก่อน @kmitl.ac.th\n",
    "# เช่น ถ้ารับค่า 'bundit@kmitl.ac.th' ให้ return 'bundit'\n",
    "def get_name(email):\n",
    "    if email.find(\"@kmitl.ac.th\") == -1:\n",
    "        return 'Incorrect email'\n",
    "    return email[:email.find(\"@\")]\n",
    "\n",
    "  # Yoou code here\n",
    "\n",
    "print(get_name('bundit@kmitl.ac.th')) # return 'bundit'\n",
    "print(get_name('admin@gmail.com')) # return 'Incorrect email'"
   ]
  },
  {
   "cell_type": "code",
   "execution_count": 68,
   "metadata": {
    "colab": {
     "base_uri": "https://localhost:8080/"
    },
    "executionInfo": {
     "elapsed": 361,
     "status": "ok",
     "timestamp": 1722147666751,
     "user": {
      "displayName": "Bundit Thanasopon",
      "userId": "04744482803489102160"
     },
     "user_tz": -420
    },
    "id": "pxdKHYIjIr2Y",
    "outputId": "9310832a-c4b5-45ee-bb36-7812c9c85ea4"
   },
   "outputs": [
    {
     "name": "stdout",
     "output_type": "stream",
     "text": [
      "['2020', '10', '01']['23', '15', '20']\n"
     ]
    }
   ],
   "source": [
    "# 2. แปลง string ด้านล่างเป็น list 2 list สำหรับ วันที่ และ เวลา\n",
    "txt = '2020-10-01 23:15:20'\n",
    "# ['2020', '10', '01'] ['23', '15', '20']\n",
    "datestr =  txt.split(\" \")[0]\n",
    "timestr =  txt.split(\" \")[1]\n",
    "# Your code here\n",
    "date_extract = datestr.split(\"-\")\n",
    "time_extract = timestr.split(\":\")\n",
    "print(str(date_extract) + str(time_extract))"
   ]
  },
  {
   "cell_type": "code",
   "execution_count": 70,
   "metadata": {
    "colab": {
     "base_uri": "https://localhost:8080/",
     "height": 52
    },
    "executionInfo": {
     "elapsed": 363,
     "status": "ok",
     "timestamp": 1722147750981,
     "user": {
      "displayName": "Bundit Thanasopon",
      "userId": "04744482803489102160"
     },
     "user_tz": -420
    },
    "id": "-xJJTs2sIuYp",
    "outputId": "b0935d32-57e9-4e56-e4ae-11d2c975e159"
   },
   "outputs": [
    {
     "name": "stdout",
     "output_type": "stream",
     "text": [
      "('Jack', 'Jane', 'John', 'Jim', 'Joe')\n",
      "Jack; Jane; John; Jim; Joe\n"
     ]
    }
   ],
   "source": [
    "# 3. เขียน function ที่รับ arbitary argument เป็นชื่อคน และ return\n",
    "# เป็น string ของชื่อคนทั้งหมดที่ได้รับเข้ามาคั่นด้วย '; '\n",
    "# เช่น รับ 'Jack', 'Jane', 'John' return 'Jack; Jane; John'\n",
    "\n",
    "def join_names(*args):\n",
    "  print(args)\n",
    "  separator = \"; \"\n",
    "  return separator.join(args)\n",
    "  # Your code here\n",
    "\n",
    "names = join_names('Jack', 'Jane', 'John', 'Jim', 'Joe')\n",
    "\n",
    "print(names)"
   ]
  },
  {
   "cell_type": "markdown",
   "metadata": {
    "id": "wZokK9c5G0dA"
   },
   "source": [
    "## Python Modules\n",
    "\n",
    "As our program grows bigger, it may contain many lines of code. Instead of putting everything in a single file, we can use modules to separate codes in separate files as per their functionality. This makes our code organized and easier to maintain.\n",
    "\n",
    "Module is a file that contains code to perform a specific task. A module may contain variables, functions, classes etc. Let's see an example,\n",
    "\n",
    "Let us create a module. Type the following and save it as `example.py`."
   ]
  },
  {
   "cell_type": "code",
   "execution_count": null,
   "metadata": {
    "id": "Gbms_LawN9Xg"
   },
   "outputs": [],
   "source": [
    "# Python Module addition\n",
    "def add(a, b):\n",
    "\n",
    "   result = a + b\n",
    "   return result"
   ]
  },
  {
   "cell_type": "markdown",
   "metadata": {
    "id": "tH-n2isROLWR"
   },
   "source": [
    "We can import the definitions inside a module to another module or the interactive interpreter in Python.\n",
    "\n",
    "We use the `import` keyword to do this. To import our previously defined module **example.py**, we type the following in the Python prompt."
   ]
  },
  {
   "cell_type": "code",
   "execution_count": null,
   "metadata": {
    "id": "d7_VybaqOWvk"
   },
   "outputs": [],
   "source": [
    "import example\n",
    "\n",
    "example.add(4,5) # returns 9"
   ]
  },
  {
   "cell_type": "markdown",
   "metadata": {
    "id": "t-A9ZCn7OhLj"
   },
   "source": [
    "### Import Python Standard Library Modules"
   ]
  },
  {
   "cell_type": "markdown",
   "metadata": {
    "id": "4-PEgLZnN06s"
   },
   "source": [
    "The Python standard library contains well over 200 modules. We can import a module according to our needs.\n",
    "\n",
    "Suppose we want to get the value of pi, first we import the `math` module and use `math.pi`. For example,\n",
    "\n"
   ]
  },
  {
   "cell_type": "code",
   "execution_count": null,
   "metadata": {
    "colab": {
     "base_uri": "https://localhost:8080/"
    },
    "executionInfo": {
     "elapsed": 369,
     "status": "ok",
     "timestamp": 1722147978560,
     "user": {
      "displayName": "Bundit Thanasopon",
      "userId": "04744482803489102160"
     },
     "user_tz": -420
    },
    "id": "B6-_d1TkOxCZ",
    "outputId": "d3c9a909-0cf5-4c95-9ddd-11fc6843fe4f"
   },
   "outputs": [
    {
     "name": "stdout",
     "output_type": "stream",
     "text": [
      "The value of pi is 3.141592653589793\n"
     ]
    }
   ],
   "source": [
    "# import standard math module\n",
    "import math\n",
    "\n",
    "# use math.pi to get value of pi\n",
    "print(\"The value of pi is\", math.pi)"
   ]
  },
  {
   "cell_type": "markdown",
   "metadata": {
    "id": "ErEQEs7cOwjD"
   },
   "source": [
    "Let's try import `datetime` and `timedelta` from `datetime` module."
   ]
  },
  {
   "cell_type": "code",
   "execution_count": null,
   "metadata": {
    "colab": {
     "base_uri": "https://localhost:8080/"
    },
    "executionInfo": {
     "elapsed": 383,
     "status": "ok",
     "timestamp": 1722148162648,
     "user": {
      "displayName": "Bundit Thanasopon",
      "userId": "04744482803489102160"
     },
     "user_tz": -420
    },
    "id": "QwqzvFNCHP8r",
    "outputId": "e9c7417a-cf67-4a82-d739-9dd47bd5102b"
   },
   "outputs": [
    {
     "name": "stdout",
     "output_type": "stream",
     "text": [
      "Mon Jan  1 00:00:00 2024\n",
      "2024\n",
      "01/01/2024\n",
      "01 January 2024\n"
     ]
    }
   ],
   "source": [
    "from datetime import datetime, date, timedelta\n",
    "\n",
    "mydate = datetime(2020, 5, 17, 10, 30, 50)\n",
    "mydate = date(2024, 1, 1)\n",
    "print(mydate.ctime())\n",
    "\n",
    "# Print year\n",
    "print(mydate.year)\n",
    "\n",
    "# Format date to string\n",
    "print(mydate.strftime(\"%d/%m/%Y\"))\n",
    "# Format date to string\n",
    "print(mydate.strftime(\"%d %B %Y\"))"
   ]
  },
  {
   "cell_type": "code",
   "execution_count": null,
   "metadata": {
    "colab": {
     "base_uri": "https://localhost:8080/"
    },
    "executionInfo": {
     "elapsed": 404,
     "status": "ok",
     "timestamp": 1722148282085,
     "user": {
      "displayName": "Bundit Thanasopon",
      "userId": "04744482803489102160"
     },
     "user_tz": -420
    },
    "id": "LB3MK5ROPctK",
    "outputId": "54b15885-fdce-4a37-9fcc-171556bac221"
   },
   "outputs": [
    {
     "name": "stdout",
     "output_type": "stream",
     "text": [
      "2024-07-28 06:31:19.210843\n"
     ]
    }
   ],
   "source": [
    "# Print current date time\n",
    "now = datetime.now()\n",
    "print(now)"
   ]
  },
  {
   "cell_type": "code",
   "execution_count": null,
   "metadata": {
    "colab": {
     "base_uri": "https://localhost:8080/"
    },
    "executionInfo": {
     "elapsed": 519,
     "status": "ok",
     "timestamp": 1722148320825,
     "user": {
      "displayName": "Bundit Thanasopon",
      "userId": "04744482803489102160"
     },
     "user_tz": -420
    },
    "id": "liNmcxUpPfm8",
    "outputId": "bbf5f482-c65e-4f2c-ce6f-a12550a98510"
   },
   "outputs": [
    {
     "name": "stdout",
     "output_type": "stream",
     "text": [
      "2024-08-18 06:31:19.210843\n"
     ]
    }
   ],
   "source": [
    "#Add 15 days to current date\n",
    "next15 = now + timedelta(weeks=3)\n",
    "\n",
    "print(next15)"
   ]
  },
  {
   "cell_type": "markdown",
   "metadata": {
    "id": "zFP8p8AnQdXC"
   },
   "source": [
    "**Exercise**\n",
    "\n",
    "1. หาวันที่ 1 สัปดาห์ก่อนวันปัจจุบัน และทำการ print โดย format วันที่ในรูปแบบ dd/mm/yy\n",
    "\n",
    "**Hint:** [datetime formats](https://www.w3schools.com/python/python_datetime.asp)"
   ]
  },
  {
   "cell_type": "code",
   "execution_count": 59,
   "metadata": {
    "colab": {
     "base_uri": "https://localhost:8080/",
     "height": 35
    },
    "executionInfo": {
     "elapsed": 385,
     "status": "ok",
     "timestamp": 1722148660466,
     "user": {
      "displayName": "Bundit Thanasopon",
      "userId": "04744482803489102160"
     },
     "user_tz": -420
    },
    "id": "vXrTOJKeRBGL",
    "outputId": "584a271a-5f6c-4025-be37-9536e507207c"
   },
   "outputs": [
    {
     "data": {
      "text/plain": [
       "'06/07/25'"
      ]
     },
     "execution_count": 59,
     "metadata": {},
     "output_type": "execute_result"
    }
   ],
   "source": [
    "from datetime import datetime , timedelta\n",
    "\n",
    "# Your code here\n",
    "ans = datetime.now() - timedelta(weeks=1)\n",
    "\n",
    "ans.strftime(\"%d/%m/%y\")"
   ]
  },
  {
   "cell_type": "markdown",
   "metadata": {
    "id": "mvPddgvjRBic"
   },
   "source": [
    "2. หาว่าวันที่ 1 สิงหาคม 2024 เป็นวันอะไรในสัปดาห์\n",
    "\n",
    "**Hint: datetime.weekday()**"
   ]
  },
  {
   "cell_type": "code",
   "execution_count": 66,
   "metadata": {
    "colab": {
     "base_uri": "https://localhost:8080/"
    },
    "executionInfo": {
     "elapsed": 378,
     "status": "ok",
     "timestamp": 1722148603018,
     "user": {
      "displayName": "Bundit Thanasopon",
      "userId": "04744482803489102160"
     },
     "user_tz": -420
    },
    "id": "xw2ZesbMRV3G",
    "outputId": "241af243-11a8-455b-ef90-095e858f551d"
   },
   "outputs": [
    {
     "name": "stdout",
     "output_type": "stream",
     "text": [
      "Thursday\n"
     ]
    }
   ],
   "source": [
    "from datetime import datetime , timedelta, date\n",
    "# Your code here\n",
    "mydate = date(2024, 8, 1)\n",
    "\n",
    "print(mydate.strftime(\"%A\")) \n"
   ]
  }
 ],
 "metadata": {
  "colab": {
   "authorship_tag": "ABX9TyPuuP6XAFHRgzb1nL2xAHO8",
   "provenance": []
  },
  "kernelspec": {
   "display_name": "Python 3",
   "name": "python3"
  },
  "language_info": {
   "codemirror_mode": {
    "name": "ipython",
    "version": 3
   },
   "file_extension": ".py",
   "mimetype": "text/x-python",
   "name": "python",
   "nbconvert_exporter": "python",
   "pygments_lexer": "ipython3",
   "version": "3.13.5"
  }
 },
 "nbformat": 4,
 "nbformat_minor": 0
}

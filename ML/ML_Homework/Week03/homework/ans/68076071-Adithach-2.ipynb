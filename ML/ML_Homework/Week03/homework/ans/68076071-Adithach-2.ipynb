{
 "cells": [
  {
   "cell_type": "markdown",
   "id": "2fc42d51",
   "metadata": {},
   "source": [
    "# Ans Week03 assignment 02\n"
   ]
  },
  {
   "cell_type": "code",
   "execution_count": null,
   "id": "707996de",
   "metadata": {},
   "outputs": [
    {
     "name": "stdout",
     "output_type": "stream",
     "text": [
      "Notebook cleaned.\n",
      "True\n"
     ]
    }
   ],
   "source": [
    "import IPython\n",
    "import sys\n",
    "import os\n",
    "from openai import OpenAI\n",
    "from dotenv import load_dotenv\n",
    "import matplotlib.pyplot as plt\n",
    "import base64\n",
    "from io import BytesIO\n",
    "from PIL import Image\n",
    "\n",
    "\n",
    "def clean_notebook():\n",
    "    IPython.display.clear_output(wait=True)\n",
    "    print(\"Notebook cleaned.\")\n",
    "\n",
    "# Clean up the notebook\n",
    "clean_notebook()\n",
    "\n",
    "\n",
    "# Load environment variables\n",
    "print(load_dotenv())\n",
    "\n",
    "openai_client = OpenAI(api_key=os.getenv(\"OPENAI_API_KEY\"))\n",
    "model_name = \"gpt-4.1-mini\"    \n",
    "\n",
    "\n"
   ]
  },
  {
   "cell_type": "code",
   "execution_count": null,
   "id": "b919875b",
   "metadata": {},
   "outputs": [],
   "source": [
    "def decodebase64_image(base64_string):\n",
    "    image_data = base64.b64decode(base64_string)\n",
    "    image = Image.open(BytesIO(image_data))\n",
    "    return image"
   ]
  }
 ],
 "metadata": {
  "kernelspec": {
   "display_name": "Python 3",
   "language": "python",
   "name": "python3"
  },
  "language_info": {
   "codemirror_mode": {
    "name": "ipython",
    "version": 3
   },
   "file_extension": ".py",
   "mimetype": "text/x-python",
   "name": "python",
   "nbconvert_exporter": "python",
   "pygments_lexer": "ipython3",
   "version": "3.13.5"
  }
 },
 "nbformat": 4,
 "nbformat_minor": 5
}
